{
  "nbformat": 4,
  "nbformat_minor": 0,
  "metadata": {
    "kernelspec": {
      "display_name": "Python 3",
      "language": "python",
      "name": "python3"
    },
    "language_info": {
      "codemirror_mode": {
        "name": "ipython",
        "version": 3
      },
      "file_extension": ".py",
      "mimetype": "text/x-python",
      "name": "python",
      "nbconvert_exporter": "python",
      "pygments_lexer": "ipython3",
      "version": "3.7.3"
    },
    "colab": {
      "name": "TSFTask:Stock Market & News Headline Prediction using Numerical and Textual Analysis.ipynb",
      "provenance": [],
      "toc_visible": true,
      "include_colab_link": true
    }
  },
  "cells": [
    {
      "cell_type": "markdown",
      "metadata": {
        "id": "view-in-github",
        "colab_type": "text"
      },
      "source": [
        "<a href=\"https://colab.research.google.com/github/priyabrata-maity/PM10/blob/main/TSFTask_Stock_Market_%26_News_Headline_Prediction_using_Numerical_and_Textual_Analysis.ipynb\" target=\"_parent\"><img src=\"https://colab.research.google.com/assets/colab-badge.svg\" alt=\"Open In Colab\"/></a>"
      ]
    },
    {
      "cell_type": "markdown",
      "metadata": {
        "id": "pWMxJkF0QwMf"
      },
      "source": [
        "#Priyabrata Maity"
      ]
    },
    {
      "cell_type": "markdown",
      "metadata": {
        "id": "WXOmJ2MTQvzy"
      },
      "source": [
        "#The Sparks Foundation"
      ]
    },
    {
      "cell_type": "markdown",
      "metadata": {
        "id": "pu3iobaIQ6hu"
      },
      "source": [
        "#Stock Market & News Headline Prediction using Numerical and Textual Analysis\n"
      ]
    },
    {
      "cell_type": "code",
      "metadata": {
        "id": "qkPNdIwhBt8P",
        "colab": {
          "base_uri": "https://localhost:8080/",
          "height": 233
        },
        "outputId": "696680d8-148d-4ec8-b3d9-15177e8e3fe8"
      },
      "source": [
        "import numpy as np\n",
        "import pandas as pd\n",
        "import seaborn as sns\n",
        "import matplotlib.pyplot as plt\n",
        "%matplotlib inline\n",
        "\n",
        "import datetime\n",
        "import pandas_datareader.data as web\n",
        "from pandas import Series, DataFrame\n",
        "\n",
        "\n",
        "start = datetime.datetime(2010, 1, 1)\n",
        "end = datetime.datetime(2020, 1, 11)\n",
        "\n",
        "df = web.DataReader(\"AAPL\", 'yahoo', start, end)\n",
        "df.tail()"
      ],
      "execution_count": 13,
      "outputs": [
        {
          "output_type": "execute_result",
          "data": {
            "text/html": [
              "<div>\n",
              "<style scoped>\n",
              "    .dataframe tbody tr th:only-of-type {\n",
              "        vertical-align: middle;\n",
              "    }\n",
              "\n",
              "    .dataframe tbody tr th {\n",
              "        vertical-align: top;\n",
              "    }\n",
              "\n",
              "    .dataframe thead th {\n",
              "        text-align: right;\n",
              "    }\n",
              "</style>\n",
              "<table border=\"1\" class=\"dataframe\">\n",
              "  <thead>\n",
              "    <tr style=\"text-align: right;\">\n",
              "      <th></th>\n",
              "      <th>High</th>\n",
              "      <th>Low</th>\n",
              "      <th>Open</th>\n",
              "      <th>Close</th>\n",
              "      <th>Volume</th>\n",
              "      <th>Adj Close</th>\n",
              "    </tr>\n",
              "    <tr>\n",
              "      <th>Date</th>\n",
              "      <th></th>\n",
              "      <th></th>\n",
              "      <th></th>\n",
              "      <th></th>\n",
              "      <th></th>\n",
              "      <th></th>\n",
              "    </tr>\n",
              "  </thead>\n",
              "  <tbody>\n",
              "    <tr>\n",
              "      <th>2020-01-06</th>\n",
              "      <td>74.989998</td>\n",
              "      <td>73.187500</td>\n",
              "      <td>73.447502</td>\n",
              "      <td>74.949997</td>\n",
              "      <td>118387200.0</td>\n",
              "      <td>73.704819</td>\n",
              "    </tr>\n",
              "    <tr>\n",
              "      <th>2020-01-07</th>\n",
              "      <td>75.224998</td>\n",
              "      <td>74.370003</td>\n",
              "      <td>74.959999</td>\n",
              "      <td>74.597504</td>\n",
              "      <td>108872000.0</td>\n",
              "      <td>73.358185</td>\n",
              "    </tr>\n",
              "    <tr>\n",
              "      <th>2020-01-08</th>\n",
              "      <td>76.110001</td>\n",
              "      <td>74.290001</td>\n",
              "      <td>74.290001</td>\n",
              "      <td>75.797501</td>\n",
              "      <td>132079200.0</td>\n",
              "      <td>74.538239</td>\n",
              "    </tr>\n",
              "    <tr>\n",
              "      <th>2020-01-09</th>\n",
              "      <td>77.607498</td>\n",
              "      <td>76.550003</td>\n",
              "      <td>76.809998</td>\n",
              "      <td>77.407501</td>\n",
              "      <td>170108400.0</td>\n",
              "      <td>76.121498</td>\n",
              "    </tr>\n",
              "    <tr>\n",
              "      <th>2020-01-10</th>\n",
              "      <td>78.167503</td>\n",
              "      <td>77.062500</td>\n",
              "      <td>77.650002</td>\n",
              "      <td>77.582497</td>\n",
              "      <td>140644800.0</td>\n",
              "      <td>76.293579</td>\n",
              "    </tr>\n",
              "  </tbody>\n",
              "</table>\n",
              "</div>"
            ],
            "text/plain": [
              "                 High        Low       Open      Close       Volume  Adj Close\n",
              "Date                                                                          \n",
              "2020-01-06  74.989998  73.187500  73.447502  74.949997  118387200.0  73.704819\n",
              "2020-01-07  75.224998  74.370003  74.959999  74.597504  108872000.0  73.358185\n",
              "2020-01-08  76.110001  74.290001  74.290001  75.797501  132079200.0  74.538239\n",
              "2020-01-09  77.607498  76.550003  76.809998  77.407501  170108400.0  76.121498\n",
              "2020-01-10  78.167503  77.062500  77.650002  77.582497  140644800.0  76.293579"
            ]
          },
          "metadata": {
            "tags": []
          },
          "execution_count": 13
        }
      ]
    },
    {
      "cell_type": "markdown",
      "metadata": {
        "id": "3mszTHlEBt8S"
      },
      "source": [
        "This piece of code will pull 10 years data from January 2010 until January 2020. Feel free to tweak the start and end date as you see necessary. For the rest of analysis, we will use the Closing Price which remarks the final price in which the stocks are traded by the end of the day."
      ]
    },
    {
      "cell_type": "markdown",
      "metadata": {
        "id": "IxeIJVraBt8S"
      },
      "source": [
        "## Exploring Rolling Mean and Return Rate of Stocks"
      ]
    },
    {
      "cell_type": "markdown",
      "metadata": {
        "id": "4zJKOhouBt8T"
      },
      "source": [
        "In this analysis, we analyse stocks using two key measurements: Rolling Mean and Return Rate.\n",
        "\n",
        "### Rolling Mean (Moving Average) — to determine trend\n",
        "\n",
        "Rolling mean/Moving Average (MA) smooths out price data by creating a constantly updated average price. This is useful to cut down “noise” in our price chart. Furthermore, this Moving Average could act as “Resistance” meaning from the downtrend and uptrend of stocks you could expect it will follow the trend and less likely to deviate outside its resistance point."
      ]
    },
    {
      "cell_type": "code",
      "metadata": {
        "id": "AnwqiL2WBt8T",
        "colab": {
          "base_uri": "https://localhost:8080/"
        },
        "outputId": "57eb7771-52db-48e1-dcf9-ecb354825d26"
      },
      "source": [
        "close_px = df['Adj Close']\n",
        "mavg = close_px.rolling(window=100).mean()\n",
        "mavg.head(20)"
      ],
      "execution_count": 14,
      "outputs": [
        {
          "output_type": "execute_result",
          "data": {
            "text/plain": [
              "Date\n",
              "2010-01-04   NaN\n",
              "2010-01-05   NaN\n",
              "2010-01-06   NaN\n",
              "2010-01-07   NaN\n",
              "2010-01-08   NaN\n",
              "2010-01-11   NaN\n",
              "2010-01-12   NaN\n",
              "2010-01-13   NaN\n",
              "2010-01-14   NaN\n",
              "2010-01-15   NaN\n",
              "2010-01-19   NaN\n",
              "2010-01-20   NaN\n",
              "2010-01-21   NaN\n",
              "2010-01-22   NaN\n",
              "2010-01-25   NaN\n",
              "2010-01-26   NaN\n",
              "2010-01-27   NaN\n",
              "2010-01-28   NaN\n",
              "2010-01-29   NaN\n",
              "2010-02-01   NaN\n",
              "Name: Adj Close, dtype: float64"
            ]
          },
          "metadata": {
            "tags": []
          },
          "execution_count": 14
        }
      ]
    },
    {
      "cell_type": "code",
      "metadata": {
        "id": "qDQDrDs1Bt8W",
        "colab": {
          "base_uri": "https://localhost:8080/",
          "height": 419
        },
        "outputId": "6d405d53-e249-4025-8cca-201c6b6117c7"
      },
      "source": [
        "%matplotlib inline\n",
        "import matplotlib.pyplot as plt\n",
        "from matplotlib import style\n",
        "\n",
        "# Adjusting the size of matplotlib\n",
        "import matplotlib as mpl\n",
        "mpl.rc('figure', figsize=(8, 7))\n",
        "mpl.__version__\n",
        "\n",
        "# Adjusting the style of matplotlib\n",
        "style.use('ggplot')\n",
        "\n",
        "close_px.plot(label='AAPL')\n",
        "mavg.plot(label='mavg')\n",
        "plt.legend()\n",
        "plt.show()"
      ],
      "execution_count": 15,
      "outputs": [
        {
          "output_type": "display_data",
          "data": {
            "image/png": "[encoded data removed]",
            "text/plain": [
              "<Figure size 576x504 with 1 Axes>"
            ]
          },
          "metadata": {
            "tags": []
          }
        }
      ]
    },
    {
      "cell_type": "markdown",
      "metadata": {
        "id": "nx-WYXyEBt8Y"
      },
      "source": [
        "The Moving Average makes the line smooth and showcase the increasing or decreasing trend of stocks price.\n",
        "In this chart, the Moving Average showcases increasing trend the upturn or downturn of stocks price. Logically, you should buy when the stocks are experiencing downturn and sell when the stocks are experiencing upturn.\n",
        "\n",
        "### Return Deviation — to determine risk and return\n",
        "\n",
        "Expected Return measures the mean, or expected value, of the probability distribution of investment returns. The expected return of a portfolio is calculated by multiplying the weight of each asset by its expected return and adding the values for each investment — Investopedia.\n"
      ]
    },
    {
      "cell_type": "code",
      "metadata": {
        "id": "3ar5zfW0Bt8Z",
        "colab": {
          "base_uri": "https://localhost:8080/",
          "height": 419
        },
        "outputId": "8bac0ac0-c7f2-4365-8106-65649c17bf14"
      },
      "source": [
        "rets = close_px / close_px.shift(1) - 1\n",
        "rets.plot(label='return')\n",
        "plt.show()"
      ],
      "execution_count": 16,
      "outputs": [
        {
          "output_type": "display_data",
          "data": {
            "image/png": "[encoded data removed]",
            "text/plain": [
              "<Figure size 576x504 with 1 Axes>"
            ]
          },
          "metadata": {
            "tags": []
          }
        }
      ]
    },
    {
      "cell_type": "markdown",
      "metadata": {
        "id": "PGmEkTZ9Bt8b"
      },
      "source": [
        "Logically, our ideal stocks should return as high and stable as possible. If you are risk averse(like me), you might want to avoid this stocks as you saw the 10% drop in 2013. This decision is heavily subjected to your general sentiment of the stocks and competitor analysis."
      ]
    },
    {
      "cell_type": "markdown",
      "metadata": {
        "id": "viYt908xBt8b"
      },
      "source": [
        "## Analysing your Competitors Stocks\n",
        "In this segment, we are going to analyse on how one company performs in relative with its competitor. Let’s assume we are interested in technology companies and want to compare the big guns: Apple, GE, Google, IBM, and Microsoft."
      ]
    },
    {
      "cell_type": "code",
      "metadata": {
        "id": "G8zz0qdSBt8c",
        "colab": {
          "base_uri": "https://localhost:8080/",
          "height": 233
        },
        "outputId": "110dabc6-c261-46d3-8175-3022a8f2a0cf"
      },
      "source": [
        "dfcomp = web.DataReader(['AAPL', 'GE', 'GOOG', 'IBM', 'MSFT'],'yahoo',start=start,end=end)['Adj Close']\n",
        "dfcomp.head()"
      ],
      "execution_count": 17,
      "outputs": [
        {
          "output_type": "execute_result",
          "data": {
            "text/html": [
              "<div>\n",
              "<style scoped>\n",
              "    .dataframe tbody tr th:only-of-type {\n",
              "        vertical-align: middle;\n",
              "    }\n",
              "\n",
              "    .dataframe tbody tr th {\n",
              "        vertical-align: top;\n",
              "    }\n",
              "\n",
              "    .dataframe thead th {\n",
              "        text-align: right;\n",
              "    }\n",
              "</style>\n",
              "<table border=\"1\" class=\"dataframe\">\n",
              "  <thead>\n",
              "    <tr style=\"text-align: right;\">\n",
              "      <th>Symbols</th>\n",
              "      <th>AAPL</th>\n",
              "      <th>GE</th>\n",
              "      <th>GOOG</th>\n",
              "      <th>IBM</th>\n",
              "      <th>MSFT</th>\n",
              "    </tr>\n",
              "    <tr>\n",
              "      <th>Date</th>\n",
              "      <th></th>\n",
              "      <th></th>\n",
              "      <th></th>\n",
              "      <th></th>\n",
              "      <th></th>\n",
              "    </tr>\n",
              "  </thead>\n",
              "  <tbody>\n",
              "    <tr>\n",
              "      <th>2010-01-04</th>\n",
              "      <td>6.539882</td>\n",
              "      <td>10.840267</td>\n",
              "      <td>312.204773</td>\n",
              "      <td>92.163887</td>\n",
              "      <td>24.105360</td>\n",
              "    </tr>\n",
              "    <tr>\n",
              "      <th>2010-01-05</th>\n",
              "      <td>6.551187</td>\n",
              "      <td>10.896401</td>\n",
              "      <td>310.829926</td>\n",
              "      <td>91.050545</td>\n",
              "      <td>24.113148</td>\n",
              "    </tr>\n",
              "    <tr>\n",
              "      <th>2010-01-06</th>\n",
              "      <td>6.446983</td>\n",
              "      <td>10.840267</td>\n",
              "      <td>302.994293</td>\n",
              "      <td>90.459076</td>\n",
              "      <td>23.965164</td>\n",
              "    </tr>\n",
              "    <tr>\n",
              "      <th>2010-01-07</th>\n",
              "      <td>6.435065</td>\n",
              "      <td>11.401575</td>\n",
              "      <td>295.940735</td>\n",
              "      <td>90.145927</td>\n",
              "      <td>23.715933</td>\n",
              "    </tr>\n",
              "    <tr>\n",
              "      <th>2010-01-08</th>\n",
              "      <td>6.477847</td>\n",
              "      <td>11.647147</td>\n",
              "      <td>299.885956</td>\n",
              "      <td>91.050545</td>\n",
              "      <td>23.879499</td>\n",
              "    </tr>\n",
              "  </tbody>\n",
              "</table>\n",
              "</div>"
            ],
            "text/plain": [
              "Symbols         AAPL         GE        GOOG        IBM       MSFT\n",
              "Date                                                             \n",
              "2010-01-04  6.539882  10.840267  312.204773  92.163887  24.105360\n",
              "2010-01-05  6.551187  10.896401  310.829926  91.050545  24.113148\n",
              "2010-01-06  6.446983  10.840267  302.994293  90.459076  23.965164\n",
              "2010-01-07  6.435065  11.401575  295.940735  90.145927  23.715933\n",
              "2010-01-08  6.477847  11.647147  299.885956  91.050545  23.879499"
            ]
          },
          "metadata": {
            "tags": []
          },
          "execution_count": 17
        }
      ]
    },
    {
      "cell_type": "markdown",
      "metadata": {
        "id": "p6cRx0YyBt8e"
      },
      "source": [
        "## Correlation Analysis — Does one competitor affect others?\n",
        "\n",
        "We can analyse the competition by running the percentage change and correlation function in pandas. Percentage change will find how much the price changes compared to the previous day which defines returns. Knowing the correlation will help us see whether the returns are affected by other stocks’ returns"
      ]
    },
    {
      "cell_type": "code",
      "metadata": {
        "id": "M-XZIG2OBt8e",
        "colab": {
          "base_uri": "https://localhost:8080/",
          "height": 386
        },
        "outputId": "6ac78048-1d81-4572-e9ec-e2c722f9146b"
      },
      "source": [
        "retscomp = dfcomp.pct_change()\n",
        "corr = retscomp.corr()\n",
        "retscomp.head(10)"
      ],
      "execution_count": 18,
      "outputs": [
        {
          "output_type": "execute_result",
          "data": {
            "text/html": [
              "<div>\n",
              "<style scoped>\n",
              "    .dataframe tbody tr th:only-of-type {\n",
              "        vertical-align: middle;\n",
              "    }\n",
              "\n",
              "    .dataframe tbody tr th {\n",
              "        vertical-align: top;\n",
              "    }\n",
              "\n",
              "    .dataframe thead th {\n",
              "        text-align: right;\n",
              "    }\n",
              "</style>\n",
              "<table border=\"1\" class=\"dataframe\">\n",
              "  <thead>\n",
              "    <tr style=\"text-align: right;\">\n",
              "      <th>Symbols</th>\n",
              "      <th>AAPL</th>\n",
              "      <th>GE</th>\n",
              "      <th>GOOG</th>\n",
              "      <th>IBM</th>\n",
              "      <th>MSFT</th>\n",
              "    </tr>\n",
              "    <tr>\n",
              "      <th>Date</th>\n",
              "      <th></th>\n",
              "      <th></th>\n",
              "      <th></th>\n",
              "      <th></th>\n",
              "      <th></th>\n",
              "    </tr>\n",
              "  </thead>\n",
              "  <tbody>\n",
              "    <tr>\n",
              "      <th>2010-01-04</th>\n",
              "      <td>NaN</td>\n",
              "      <td>NaN</td>\n",
              "      <td>NaN</td>\n",
              "      <td>NaN</td>\n",
              "      <td>NaN</td>\n",
              "    </tr>\n",
              "    <tr>\n",
              "      <th>2010-01-05</th>\n",
              "      <td>0.001729</td>\n",
              "      <td>0.005178</td>\n",
              "      <td>-0.004404</td>\n",
              "      <td>-0.012080</td>\n",
              "      <td>0.000323</td>\n",
              "    </tr>\n",
              "    <tr>\n",
              "      <th>2010-01-06</th>\n",
              "      <td>-0.015906</td>\n",
              "      <td>-0.005152</td>\n",
              "      <td>-0.025209</td>\n",
              "      <td>-0.006496</td>\n",
              "      <td>-0.006137</td>\n",
              "    </tr>\n",
              "    <tr>\n",
              "      <th>2010-01-07</th>\n",
              "      <td>-0.001849</td>\n",
              "      <td>0.051780</td>\n",
              "      <td>-0.023280</td>\n",
              "      <td>-0.003462</td>\n",
              "      <td>-0.010400</td>\n",
              "    </tr>\n",
              "    <tr>\n",
              "      <th>2010-01-08</th>\n",
              "      <td>0.006648</td>\n",
              "      <td>0.021538</td>\n",
              "      <td>0.013331</td>\n",
              "      <td>0.010035</td>\n",
              "      <td>0.006897</td>\n",
              "    </tr>\n",
              "    <tr>\n",
              "      <th>2010-01-11</th>\n",
              "      <td>-0.008822</td>\n",
              "      <td>0.009639</td>\n",
              "      <td>-0.001512</td>\n",
              "      <td>-0.010470</td>\n",
              "      <td>-0.012720</td>\n",
              "    </tr>\n",
              "    <tr>\n",
              "      <th>2010-01-12</th>\n",
              "      <td>-0.011375</td>\n",
              "      <td>0.000597</td>\n",
              "      <td>-0.017684</td>\n",
              "      <td>0.007955</td>\n",
              "      <td>-0.006608</td>\n",
              "    </tr>\n",
              "    <tr>\n",
              "      <th>2010-01-13</th>\n",
              "      <td>0.014106</td>\n",
              "      <td>0.003578</td>\n",
              "      <td>-0.005741</td>\n",
              "      <td>-0.002145</td>\n",
              "      <td>0.009312</td>\n",
              "    </tr>\n",
              "    <tr>\n",
              "      <th>2010-01-14</th>\n",
              "      <td>-0.005792</td>\n",
              "      <td>-0.007724</td>\n",
              "      <td>0.004701</td>\n",
              "      <td>0.015972</td>\n",
              "      <td>0.020099</td>\n",
              "    </tr>\n",
              "    <tr>\n",
              "      <th>2010-01-15</th>\n",
              "      <td>-0.016712</td>\n",
              "      <td>-0.015569</td>\n",
              "      <td>-0.016699</td>\n",
              "      <td>-0.004006</td>\n",
              "      <td>-0.003230</td>\n",
              "    </tr>\n",
              "  </tbody>\n",
              "</table>\n",
              "</div>"
            ],
            "text/plain": [
              "Symbols         AAPL        GE      GOOG       IBM      MSFT\n",
              "Date                                                        \n",
              "2010-01-04       NaN       NaN       NaN       NaN       NaN\n",
              "2010-01-05  0.001729  0.005178 -0.004404 -0.012080  0.000323\n",
              "2010-01-06 -0.015906 -0.005152 -0.025209 -0.006496 -0.006137\n",
              "2010-01-07 -0.001849  0.051780 -0.023280 -0.003462 -0.010400\n",
              "2010-01-08  0.006648  0.021538  0.013331  0.010035  0.006897\n",
              "2010-01-11 -0.008822  0.009639 -0.001512 -0.010470 -0.012720\n",
              "2010-01-12 -0.011375  0.000597 -0.017684  0.007955 -0.006608\n",
              "2010-01-13  0.014106  0.003578 -0.005741 -0.002145  0.009312\n",
              "2010-01-14 -0.005792 -0.007724  0.004701  0.015972  0.020099\n",
              "2010-01-15 -0.016712 -0.015569 -0.016699 -0.004006 -0.003230"
            ]
          },
          "metadata": {
            "tags": []
          },
          "execution_count": 18
        }
      ]
    },
    {
      "cell_type": "markdown",
      "metadata": {
        "id": "LrdABp8LBt8h"
      },
      "source": [
        "To prove the positive correlations, we will use heat maps to visualize the correlation ranges among the competing stocks. Notice that the lighter the color, the more correlated the two stocks are."
      ]
    },
    {
      "cell_type": "code",
      "metadata": {
        "id": "hOVZiR1fBt8h",
        "colab": {
          "base_uri": "https://localhost:8080/",
          "height": 421
        },
        "outputId": "0c7f3afa-0114-497b-9348-f1575eeaa569"
      },
      "source": [
        "plt.imshow(corr, cmap='hot', interpolation='none')\n",
        "plt.colorbar()\n",
        "plt.xticks(range(len(corr)), corr.columns)\n",
        "plt.yticks(range(len(corr)), corr.columns);"
      ],
      "execution_count": 19,
      "outputs": [
        {
          "output_type": "display_data",
          "data": {
            "image/png": "[encoded data removed]",
            "text/plain": [
              "<Figure size 576x504 with 2 Axes>"
            ]
          },
          "metadata": {
            "tags": []
          }
        }
      ]
    },
    {
      "cell_type": "markdown",
      "metadata": {
        "id": "XI3LeXSuBt8j"
      },
      "source": [
        "From the Scatter Matrix and Heatmap, we can find great correlations among the competing stocks. However, this might not show causality, and could just show the trend in the technology industry rather than show how competing stocks affect each other.\n",
        "\n",
        "### Stocks Returns Rate and Risk\n",
        "Apart from correlation, we also analyse each stock’s risks and returns. In this case we are extracting the average of returns (Return Rate) and the standard deviation of returns (Risk)."
      ]
    },
    {
      "cell_type": "code",
      "metadata": {
        "id": "_Sl8_xRHBt8k",
        "colab": {
          "base_uri": "https://localhost:8080/",
          "height": 0
        },
        "outputId": "b5d3d6ca-0a6a-48ce-eb62-80352b2d1012"
      },
      "source": [
        "plt.scatter(retscomp.mean(), retscomp.std())\n",
        "plt.xlabel('Expected returns')\n",
        "plt.ylabel('Risk')\n",
        "for label, x, y in zip(retscomp.columns, retscomp.mean(), retscomp.std()):\n",
        "    plt.annotate(\n",
        "        label, \n",
        "        xy = (x, y), xytext = (20, -20),\n",
        "        textcoords = 'offset points', ha = 'right', va = 'bottom',\n",
        "        bbox = dict(boxstyle = 'round,pad=0.5', fc = 'yellow', alpha = 0.5),\n",
        "        arrowprops = dict(arrowstyle = '->', connectionstyle = 'arc3,rad=0'))"
      ],
      "execution_count": 20,
      "outputs": [
        {
          "output_type": "display_data",
          "data": {
            "image/png": "[encoded data removed]",
            "text/plain": [
              "<Figure size 576x504 with 1 Axes>"
            ]
          },
          "metadata": {
            "tags": []
          }
        }
      ]
    },
    {
      "cell_type": "markdown",
      "metadata": {
        "id": "AWtOcP6mBt8m"
      },
      "source": [
        "## India-News-Headlines file imported and doing Numerical Anaylsis."
      ]
    },
    {
      "cell_type": "code",
      "metadata": {
        "id": "6xixUfB-Bt8m",
        "colab": {
          "base_uri": "https://localhost:8080/",
          "height": 355
        },
        "outputId": "7be48831-ac70-4646-e8a9-207d926189c1"
      },
      "source": [
        "df1 = pd.read_csv('india-news-headlines.csv')\n",
        "df1.head(10)"
      ],
      "execution_count": 21,
      "outputs": [
        {
          "output_type": "execute_result",
          "data": {
            "text/html": [
              "<div>\n",
              "<style scoped>\n",
              "    .dataframe tbody tr th:only-of-type {\n",
              "        vertical-align: middle;\n",
              "    }\n",
              "\n",
              "    .dataframe tbody tr th {\n",
              "        vertical-align: top;\n",
              "    }\n",
              "\n",
              "    .dataframe thead th {\n",
              "        text-align: right;\n",
              "    }\n",
              "</style>\n",
              "<table border=\"1\" class=\"dataframe\">\n",
              "  <thead>\n",
              "    <tr style=\"text-align: right;\">\n",
              "      <th></th>\n",
              "      <th>publish_date</th>\n",
              "      <th>headline_category</th>\n",
              "      <th>headline_text</th>\n",
              "    </tr>\n",
              "  </thead>\n",
              "  <tbody>\n",
              "    <tr>\n",
              "      <th>0</th>\n",
              "      <td>20010101</td>\n",
              "      <td>sports.wwe</td>\n",
              "      <td>win over cena satisfying but defeating underta...</td>\n",
              "    </tr>\n",
              "    <tr>\n",
              "      <th>1</th>\n",
              "      <td>20010102</td>\n",
              "      <td>unknown</td>\n",
              "      <td>Status quo will not be disturbed at Ayodhya; s...</td>\n",
              "    </tr>\n",
              "    <tr>\n",
              "      <th>2</th>\n",
              "      <td>20010102</td>\n",
              "      <td>unknown</td>\n",
              "      <td>Fissures in Hurriyat over Pak visit</td>\n",
              "    </tr>\n",
              "    <tr>\n",
              "      <th>3</th>\n",
              "      <td>20010102</td>\n",
              "      <td>unknown</td>\n",
              "      <td>America's unwanted heading for India?</td>\n",
              "    </tr>\n",
              "    <tr>\n",
              "      <th>4</th>\n",
              "      <td>20010102</td>\n",
              "      <td>unknown</td>\n",
              "      <td>For bigwigs; it is destination Goa</td>\n",
              "    </tr>\n",
              "    <tr>\n",
              "      <th>5</th>\n",
              "      <td>20010102</td>\n",
              "      <td>unknown</td>\n",
              "      <td>Extra buses to clear tourist traffic</td>\n",
              "    </tr>\n",
              "    <tr>\n",
              "      <th>6</th>\n",
              "      <td>20010102</td>\n",
              "      <td>unknown</td>\n",
              "      <td>Dilute the power of transfers; says Riberio</td>\n",
              "    </tr>\n",
              "    <tr>\n",
              "      <th>7</th>\n",
              "      <td>20010102</td>\n",
              "      <td>unknown</td>\n",
              "      <td>Focus shifts to teaching of Hindi</td>\n",
              "    </tr>\n",
              "    <tr>\n",
              "      <th>8</th>\n",
              "      <td>20010102</td>\n",
              "      <td>unknown</td>\n",
              "      <td>IT will become compulsory in schools</td>\n",
              "    </tr>\n",
              "    <tr>\n",
              "      <th>9</th>\n",
              "      <td>20010102</td>\n",
              "      <td>unknown</td>\n",
              "      <td>Move to stop freedom fighters' pension flayed</td>\n",
              "    </tr>\n",
              "  </tbody>\n",
              "</table>\n",
              "</div>"
            ],
            "text/plain": [
              "   publish_date  ...                                      headline_text\n",
              "0      20010101  ...  win over cena satisfying but defeating underta...\n",
              "1      20010102  ...  Status quo will not be disturbed at Ayodhya; s...\n",
              "2      20010102  ...                Fissures in Hurriyat over Pak visit\n",
              "3      20010102  ...              America's unwanted heading for India?\n",
              "4      20010102  ...                 For bigwigs; it is destination Goa\n",
              "5      20010102  ...               Extra buses to clear tourist traffic\n",
              "6      20010102  ...        Dilute the power of transfers; says Riberio\n",
              "7      20010102  ...                  Focus shifts to teaching of Hindi\n",
              "8      20010102  ...               IT will become compulsory in schools\n",
              "9      20010102  ...      Move to stop freedom fighters' pension flayed\n",
              "\n",
              "[10 rows x 3 columns]"
            ]
          },
          "metadata": {
            "tags": []
          },
          "execution_count": 21
        }
      ]
    },
    {
      "cell_type": "code",
      "metadata": {
        "id": "MAnOgXFiBt8o",
        "colab": {
          "base_uri": "https://localhost:8080/",
          "height": 355
        },
        "outputId": "3a00ecb5-334b-4491-c760-1d7181bab43e"
      },
      "source": [
        "df1.tail(10)"
      ],
      "execution_count": 22,
      "outputs": [
        {
          "output_type": "execute_result",
          "data": {
            "text/html": [
              "<div>\n",
              "<style scoped>\n",
              "    .dataframe tbody tr th:only-of-type {\n",
              "        vertical-align: middle;\n",
              "    }\n",
              "\n",
              "    .dataframe tbody tr th {\n",
              "        vertical-align: top;\n",
              "    }\n",
              "\n",
              "    .dataframe thead th {\n",
              "        text-align: right;\n",
              "    }\n",
              "</style>\n",
              "<table border=\"1\" class=\"dataframe\">\n",
              "  <thead>\n",
              "    <tr style=\"text-align: right;\">\n",
              "      <th></th>\n",
              "      <th>publish_date</th>\n",
              "      <th>headline_category</th>\n",
              "      <th>headline_text</th>\n",
              "    </tr>\n",
              "  </thead>\n",
              "  <tbody>\n",
              "    <tr>\n",
              "      <th>1035416</th>\n",
              "      <td>20110119</td>\n",
              "      <td>india</td>\n",
              "      <td>US citizen held for murder</td>\n",
              "    </tr>\n",
              "    <tr>\n",
              "      <th>1035417</th>\n",
              "      <td>20110119</td>\n",
              "      <td>india</td>\n",
              "      <td>Grievance redressal cells to resolve</td>\n",
              "    </tr>\n",
              "    <tr>\n",
              "      <th>1035418</th>\n",
              "      <td>20110119</td>\n",
              "      <td>unknown</td>\n",
              "      <td>Nabi: The man for all seasons</td>\n",
              "    </tr>\n",
              "    <tr>\n",
              "      <th>1035419</th>\n",
              "      <td>20110119</td>\n",
              "      <td>city.delhi</td>\n",
              "      <td>Delhi Metro: Phase III to cover 105km now</td>\n",
              "    </tr>\n",
              "    <tr>\n",
              "      <th>1035420</th>\n",
              "      <td>20110119</td>\n",
              "      <td>city.delhi</td>\n",
              "      <td>Airport Metro faces delays</td>\n",
              "    </tr>\n",
              "    <tr>\n",
              "      <th>1035421</th>\n",
              "      <td>20110119</td>\n",
              "      <td>india</td>\n",
              "      <td>Mahapanchayat rejects govt assurance on CBI probe</td>\n",
              "    </tr>\n",
              "    <tr>\n",
              "      <th>1035422</th>\n",
              "      <td>20110119</td>\n",
              "      <td>india</td>\n",
              "      <td>Cold wave snuffs out 2 lives</td>\n",
              "    </tr>\n",
              "    <tr>\n",
              "      <th>1035423</th>\n",
              "      <td>20110119</td>\n",
              "      <td>india</td>\n",
              "      <td>3-member team to investigate gangrape charges</td>\n",
              "    </tr>\n",
              "    <tr>\n",
              "      <th>1035424</th>\n",
              "      <td>20110119</td>\n",
              "      <td>india</td>\n",
              "      <td>Farmer looted; shot dead</td>\n",
              "    </tr>\n",
              "    <tr>\n",
              "      <th>1035425</th>\n",
              "      <td>20110119</td>\n",
              "      <td>bu</td>\n",
              "      <td>NaN</td>\n",
              "    </tr>\n",
              "  </tbody>\n",
              "</table>\n",
              "</div>"
            ],
            "text/plain": [
              "         publish_date  ...                                      headline_text\n",
              "1035416      20110119  ...                         US citizen held for murder\n",
              "1035417      20110119  ...               Grievance redressal cells to resolve\n",
              "1035418      20110119  ...                      Nabi: The man for all seasons\n",
              "1035419      20110119  ...          Delhi Metro: Phase III to cover 105km now\n",
              "1035420      20110119  ...                         Airport Metro faces delays\n",
              "1035421      20110119  ...  Mahapanchayat rejects govt assurance on CBI probe\n",
              "1035422      20110119  ...                       Cold wave snuffs out 2 lives\n",
              "1035423      20110119  ...      3-member team to investigate gangrape charges\n",
              "1035424      20110119  ...                           Farmer looted; shot dead\n",
              "1035425      20110119  ...                                                NaN\n",
              "\n",
              "[10 rows x 3 columns]"
            ]
          },
          "metadata": {
            "tags": []
          },
          "execution_count": 22
        }
      ]
    },
    {
      "cell_type": "code",
      "metadata": {
        "id": "sSh6E44OBt8q",
        "colab": {
          "base_uri": "https://localhost:8080/"
        },
        "outputId": "d13181c3-fccf-4476-e8b5-16ccdd9a79a5"
      },
      "source": [
        "df1.info()"
      ],
      "execution_count": 23,
      "outputs": [
        {
          "output_type": "stream",
          "text": [
            "<class 'pandas.core.frame.DataFrame'>\n",
            "RangeIndex: 1035426 entries, 0 to 1035425\n",
            "Data columns (total 3 columns):\n",
            " #   Column             Non-Null Count    Dtype \n",
            "---  ------             --------------    ----- \n",
            " 0   publish_date       1035426 non-null  int64 \n",
            " 1   headline_category  1035426 non-null  object\n",
            " 2   headline_text      1035425 non-null  object\n",
            "dtypes: int64(1), object(2)\n",
            "memory usage: 23.7+ MB\n"
          ],
          "name": "stdout"
        }
      ]
    },
    {
      "cell_type": "code",
      "metadata": {
        "id": "34JzmdaQBt8t",
        "colab": {
          "base_uri": "https://localhost:8080/",
          "height": 294
        },
        "outputId": "53512b95-b4d7-42c1-dc6a-855802fc6b50"
      },
      "source": [
        "df1.describe()"
      ],
      "execution_count": 24,
      "outputs": [
        {
          "output_type": "execute_result",
          "data": {
            "text/html": [
              "<div>\n",
              "<style scoped>\n",
              "    .dataframe tbody tr th:only-of-type {\n",
              "        vertical-align: middle;\n",
              "    }\n",
              "\n",
              "    .dataframe tbody tr th {\n",
              "        vertical-align: top;\n",
              "    }\n",
              "\n",
              "    .dataframe thead th {\n",
              "        text-align: right;\n",
              "    }\n",
              "</style>\n",
              "<table border=\"1\" class=\"dataframe\">\n",
              "  <thead>\n",
              "    <tr style=\"text-align: right;\">\n",
              "      <th></th>\n",
              "      <th>publish_date</th>\n",
              "    </tr>\n",
              "  </thead>\n",
              "  <tbody>\n",
              "    <tr>\n",
              "      <th>count</th>\n",
              "      <td>1.035426e+06</td>\n",
              "    </tr>\n",
              "    <tr>\n",
              "      <th>mean</th>\n",
              "      <td>2.006509e+07</td>\n",
              "    </tr>\n",
              "    <tr>\n",
              "      <th>std</th>\n",
              "      <td>3.035464e+04</td>\n",
              "    </tr>\n",
              "    <tr>\n",
              "      <th>min</th>\n",
              "      <td>2.001010e+07</td>\n",
              "    </tr>\n",
              "    <tr>\n",
              "      <th>25%</th>\n",
              "      <td>2.003112e+07</td>\n",
              "    </tr>\n",
              "    <tr>\n",
              "      <th>50%</th>\n",
              "      <td>2.007112e+07</td>\n",
              "    </tr>\n",
              "    <tr>\n",
              "      <th>75%</th>\n",
              "      <td>2.009072e+07</td>\n",
              "    </tr>\n",
              "    <tr>\n",
              "      <th>max</th>\n",
              "      <td>2.011012e+07</td>\n",
              "    </tr>\n",
              "  </tbody>\n",
              "</table>\n",
              "</div>"
            ],
            "text/plain": [
              "       publish_date\n",
              "count  1.035426e+06\n",
              "mean   2.006509e+07\n",
              "std    3.035464e+04\n",
              "min    2.001010e+07\n",
              "25%    2.003112e+07\n",
              "50%    2.007112e+07\n",
              "75%    2.009072e+07\n",
              "max    2.011012e+07"
            ]
          },
          "metadata": {
            "tags": []
          },
          "execution_count": 24
        }
      ]
    },
    {
      "cell_type": "code",
      "metadata": {
        "id": "PSf90qNHBt8v",
        "colab": {
          "base_uri": "https://localhost:8080/"
        },
        "outputId": "0656fe96-f20a-42e3-98eb-0503742920f5"
      },
      "source": [
        "df1.max()"
      ],
      "execution_count": 25,
      "outputs": [
        {
          "output_type": "execute_result",
          "data": {
            "text/plain": [
              "publish_date            20110119\n",
              "headline_category    young-turks\n",
              "dtype: object"
            ]
          },
          "metadata": {
            "tags": []
          },
          "execution_count": 25
        }
      ]
    },
    {
      "cell_type": "code",
      "metadata": {
        "id": "v89lT9i5Bt8x",
        "colab": {
          "base_uri": "https://localhost:8080/"
        },
        "outputId": "093cfd1b-ac6c-46f8-837a-af0e4f0f35f3"
      },
      "source": [
        "df1.min()"
      ],
      "execution_count": 26,
      "outputs": [
        {
          "output_type": "execute_result",
          "data": {
            "text/plain": [
              "publish_date                 20010101\n",
              "headline_category    2008-in-pictures\n",
              "dtype: object"
            ]
          },
          "metadata": {
            "tags": []
          },
          "execution_count": 26
        }
      ]
    },
    {
      "cell_type": "code",
      "metadata": {
        "id": "C4BDu98tBt8y",
        "colab": {
          "base_uri": "https://localhost:8080/"
        },
        "outputId": "ea2868a1-73d0-4cf0-ed68-c26d8a655448"
      },
      "source": [
        "df1['headline_category'].unique()"
      ],
      "execution_count": 27,
      "outputs": [
        {
          "output_type": "execute_result",
          "data": {
            "text/plain": [
              "array(['sports.wwe', 'unknown', 'entertainment.hindi.bollywood', 'india',\n",
              "       'city.bengaluru', 'city.patna', 'business.india-business',\n",
              "       'entertainment.english.hollywood', 'city.delhi', 'edit-page',\n",
              "       'sports.cricket.india-domestic.ranji-trophy', 'sports.football',\n",
              "       'only-in-america', 'city.ahmedabad', 'jugular-vein', 'swaminomics',\n",
              "       'city.thiruvananthapuram', 'city.pune', 'home.science',\n",
              "       'city.mumbai', 'city.chandigarh', 'city.lucknow', 'city.kolkata',\n",
              "       'city.hyderabad', 'cricket', 'business.international-business',\n",
              "       'city', 'removed', 'home.sunday-times.deep-focus', 'bombay-times',\n",
              "       'home.sunday-times.all-that-matters', 'home.education',\n",
              "       'pune-times', 'calcutta-times', 'hyderabad-times',\n",
              "       'bangalore-times', 'delhi-times', 'lucknow-times',\n",
              "       'ahmedabad-times', 'citizens-grievances', 'anti-terror-law',\n",
              "       'hyderabad.local-sports', 'sports.cricket.sri-lanka-in-india',\n",
              "       'sports.hockey', 'blogs', 'home.sunday-times', 'food-facts',\n",
              "       'recipes', 'business', 'ayodhya-imbroglio', 'afghan-children',\n",
              "       'astrology.horoscope', 'world.us', 'world.middle-east',\n",
              "       'gadgets-news', 'sports.off-the-field', 'world.europe',\n",
              "       'city.chennai', 'world.china', 'world.pakistan',\n",
              "       'life-style.events', 'sino-indian-ties', 'news', 'analysis',\n",
              "       'interviews', 'sports.icc-world-cup-2015', 'tech.tech-news',\n",
              "       'ambani', 'ahmedabad-events', 'tendulkar', 'pms-us-visit',\n",
              "       'life-style.relationships.man-woman', 'sports.tennis',\n",
              "       'sports.badminton', 'world.south-asia',\n",
              "       'business.mf-simplified.mf-news', 'tech.mobiles',\n",
              "       'tech.more-gadgets', 'world.rest-of-world',\n",
              "       'life-style.food.recipes', 'life-style.home-garden',\n",
              "       'nri.community', 'tech.computing', 'city.bareilly',\n",
              "       'life-style.beauty', 'tech.social', 'tech.pcs',\n",
              "       'all-colour-edition', 'columbia-crash', 'war-on-iraq.news',\n",
              "       'war-on-iraq.opinion', 'talk-radio', 'sars-scare.news',\n",
              "       'life-style.health-fitness.health', 'videos',\n",
              "       'indo-pak-monitor.news', 'pm-on-europe-tour.news',\n",
              "       'sports.new-zealand-in-india-2016.interviews', 'advanis-us-visit',\n",
              "       'pm-on-china-visit.news', 'sports.new-zealand-in-india-2016',\n",
              "       'delhi', 'chhattisgarh', 'rajasthan', 'madhya-pradesh',\n",
              "       'pakistan-postcard', 'young-india-votes.talking-point',\n",
              "       'young-india-votes.deep-focus', 'nrs-2003',\n",
              "       'sports.cricket.england-in-australia', 'world',\n",
              "       'sports.cricket.news', 'sports.cricket.india-in-south-africa',\n",
              "       'sports.cricket.ipl', 'world.uk',\n",
              "       'sports.football.indian-super-league', 'sports.more-sports.others',\n",
              "       'young-india-votes.from-the-states',\n",
              "       'young-india-votes.aaj-ka-neta', 'young-india-votes.news',\n",
              "       'iim-fee-row', 'city.aurangabad', 'life-style.fashion.celeb-style',\n",
              "       'sports.cricket.west-indies-in-new-zealand',\n",
              "       'young-india-votes.gallup-poll', 'venus-transit',\n",
              "       'tech.it-services', 'birla-will-saga', 'iraq-hostage-drama',\n",
              "       'mumbai', 'pune', 'bangalore', 'hyderabad', 'tv.news.hindi',\n",
              "       'baroda', 'entertainment', 'sports.football.i-league',\n",
              "       'sports.football.epl', 'life-style.health-fitness.fitness',\n",
              "       'life-style.books.features', 'bachi-karkaria.erratica',\n",
              "       'sa-aiyar.swaminomics', 'gurcharan-das.men-ideas',\n",
              "       'jug-suraiya.jugular-vein', 'formula-one', 'sports.golf',\n",
              "       'top-stories', 'top-headlines', 'chidanand-rajghatta.indiaspora',\n",
              "       'shobhaa-de.politically-incorrect',\n",
              "       'entertainment.hindi.music.news', 'entertainment.events.kolkata',\n",
              "       'friendship-day', 'tech.jobs', 'entertainment.hindi.movie-review',\n",
              "       'new-test-audio', 'entertainment.english.movie-review',\n",
              "       'city.nagpur', 'editorialt', 'comunistst',\n",
              "       'shashi-tharoor.shashi-on-sunday',\n",
              "       'life-style.health-fitness.health-news',\n",
              "       'life-style.food.food-reviews', 'gadgets-special', 'shop',\n",
              "       'life-style.fashion.shows', 'life-style.fashion.trends',\n",
              "       'life-style.fashion.designers', 'chidanand-rajghatta.desiderata',\n",
              "       'tech.how-to', 'sports', 'specials', 'indians-abroad', 'ad-links',\n",
              "       'movie-reviews', 'leisure', 'heads-and-tales', 'also-read',\n",
              "       'special-coverage.other-specials', 'missile-game', 'pune-pluses',\n",
              "       'mumbai-pluses', 'delhi-ncr-pluses', 'twin-city-pluses',\n",
              "       'nagpur-pluses', 'tech', 'goa-plus', 'madras-plus',\n",
              "       'gujarat-pluses', 'north-east-pluses', 'up-pluses',\n",
              "       'maharashtra-pluses', 'speak-out', 'nagpur-times', 'mp-pluses',\n",
              "       'west-bengal-pluses', 'tarun-vijay.the-right-view', 'actresses',\n",
              "       'history', 'entertainment.hindi.music.music-reviews',\n",
              "       'world.mad-mad-world', 'entertainment.tamil.movies.previews',\n",
              "       'entertainment.telugu.movies.previews',\n",
              "       'business.personal-finance', 'entertainment.tamil.movie-reviews',\n",
              "       'others.previews', 'entertainment.kannada.movies.previews',\n",
              "       'other-racing.a1-gp', 'entertainment.bengali.movie-reviews',\n",
              "       'first-look', 'entertainment.kannada.movie-reviews',\n",
              "       'entertainment.events.bangalore', 'entertainment.events.others',\n",
              "       'entertainment.events.delhi', 'entertainment.events',\n",
              "       'entertainment.events.hyderabad', 'entertainment.events.mumbai',\n",
              "       'swapan-dasgupta.right-wrong', 'auto', 'sports.ipl-2015.news',\n",
              "       'sports.nba', 'sports.boxing', 'tech.reviews', 'city.bhopal',\n",
              "       'home.environment.global-warming',\n",
              "       'home.environment.developmental-issues',\n",
              "       'home.environment.flora-fauna', 'home.environment.wild-wacky',\n",
              "       'home.environment.pollution', 'home.environment.the-good-earth',\n",
              "       'city.vadodara', 'tech.gaming', 'jug-suraiya.second-opinion',\n",
              "       'life-style', 'other-racing.others',\n",
              "       'life-style.relationships.parenting',\n",
              "       'life-style.relationships.work', 'entertainment.events.chennai',\n",
              "       'vinita-dawra-nangia', 'city.jaipur', 'election-2008', 'city.goa',\n",
              "       'entertainment.events.goa', 'matches-results', 'photos', 'teams',\n",
              "       'santosh-desai.city-city-bang-bang', 'features', 'text-after-pic',\n",
              "       'stories', 'sports.tennis.interviews', 'subverse',\n",
              "       'sports.more-sports.shooting',\n",
              "       'sports.more-sports.snooker.billiards', 'sports.golf.interviews',\n",
              "       'olympics', 'sports.football.interviews',\n",
              "       'life-style.health-fitness.diet', 'young-turks', 'indias-vision',\n",
              "       'trivia', 'stars-speak', 'sports.more-sports.athletics',\n",
              "       'hot-on-the-web', 'sports.more-sports.wrestling', 'thirupuram',\n",
              "       'past-winners', 'player-profile', 'players-to-watch',\n",
              "       'players-profiles', 'jaipur', 'kolkata', 'nagpur', 'ahmedabad',\n",
              "       'chandigarh', 'goa', 'arsenal', 'everton', 'liverpool',\n",
              "       'bolton-wanderers', 'manchester-united', 'manchester-city',\n",
              "       'stoke-city', 'newcastle-united', 'chelsea', 'fulham',\n",
              "       'aston-villa', 'blackburn-rovers', 'sports.headline2',\n",
              "       'sports.headline3', 'sports.headline4', 'sports.headline5',\n",
              "       'sunderland', 'tottenham-hotspur', 'west-bromwich-albion',\n",
              "       'sports.football.epl.past-winners', 'mj-akbar.the-siege-within',\n",
              "       'wigan-athletic', 'advisory', 'sports.headline1',\n",
              "       'other-racing.moto-gp', 'sports.more-sports.cycling',\n",
              "       'bobilli-vijay-kumar', 'circuits.formula-one', 'more-stories',\n",
              "       'news.hardware', 'regional.tamil',\n",
              "       'entertainment.telugu.movie-reviews', 'city.thane',\n",
              "       '2008-in-pictures', 'top-news-of-2008', 'top-videos',\n",
              "       '2011-top-stories',\n",
              "       'sports.tennis.international-premier-tennis-league',\n",
              "       'city.hubballi', 'city.mangaluru', 'city.mysuru', 'city.rajkot',\n",
              "       'city.surat', 'city.kanpur', 'city.varanasi', 'city.allahabad',\n",
              "       'city.ludhiana', 'indian-challenges', 'regional',\n",
              "       'life-style.specials', 'city.guwahati',\n",
              "       'entertainment.tamil.movies.news', 'others.news-interviews',\n",
              "       'regional.kannada', 'entertainment.kannada.movies.news',\n",
              "       'young-guns', 'city.bhubaneswar',\n",
              "       'entertainment.bengali.movies.news', 'city.ranchi',\n",
              "       'quote-of-the-day', 'complete-results-2009', 'star-candidates',\n",
              "       'did-you-know', 'campaign-trail', 'reporters-diary',\n",
              "       'party-manifestos', 'drivers', 'entertainment.telugu.movies.news',\n",
              "       'rupee-symbol-survey', 'people', 'venues', 'spirituality',\n",
              "       'off-the-field', 'sports.headline6', 'schedule',\n",
              "       'life-style.people', 'schedule-results', 'travel', 'speaking-tree',\n",
              "       'life-style.fashion.specials', 'silver-jubilee',\n",
              "       'life-style.debate', 'indian-challenge',\n",
              "       'life-style.health-fitness', 'entertainment.movies',\n",
              "       'scorecard-and-statistics', 'life-style.food.drinks-corner',\n",
              "       'life-style.food.specials', 'entertainment.marathi.movie-reviews',\n",
              "       'news-features', 'teams-profile', 'punjab', 'sports.chess',\n",
              "       'sports.racing', 'life-style.spotlight',\n",
              "       'life-style.relationships.specials',\n",
              "       'life-style.health-fitness.specials', 'world-cup-venues',\n",
              "       'other-top-stories', '2010-stars', 'teams-players',\n",
              "       'queens-baton-relay', 'home.environment', 'cwg-history',\n",
              "       'sports.football.epl.interviews', 'entertainment.hindi.top-10',\n",
              "       'india-hopes', 'cwg-stars', 'india-news', 'apply-for',\n",
              "       'lodge-a-complaint', 'certificates', 'miscellaneous',\n",
              "       'city.gurgaon', 'entertainment.hindi.music.music-events',\n",
              "       'india-challenges', 'entertainment.beauty-pageants.news',\n",
              "       'entertainment.bengali.movies.previews', 'down-memory-lane', 'bu'],\n",
              "      dtype=object)"
            ]
          },
          "metadata": {
            "tags": []
          },
          "execution_count": 27
        }
      ]
    },
    {
      "cell_type": "code",
      "metadata": {
        "id": "44ILfy_LBt80",
        "colab": {
          "base_uri": "https://localhost:8080/"
        },
        "outputId": "1b1c2ae9-8b69-4b45-e4c6-c6023d7a1a90"
      },
      "source": [
        "#In case of null values\n",
        "df1.isna().any()"
      ],
      "execution_count": 28,
      "outputs": [
        {
          "output_type": "execute_result",
          "data": {
            "text/plain": [
              "publish_date         False\n",
              "headline_category    False\n",
              "headline_text         True\n",
              "dtype: bool"
            ]
          },
          "metadata": {
            "tags": []
          },
          "execution_count": 28
        }
      ]
    },
    {
      "cell_type": "code",
      "metadata": {
        "id": "HoirggQpBt82",
        "colab": {
          "base_uri": "https://localhost:8080/",
          "height": 79
        },
        "outputId": "ac58b32c-b96d-4111-a9b6-288eb6b432a2"
      },
      "source": [
        "df1.corr()"
      ],
      "execution_count": 29,
      "outputs": [
        {
          "output_type": "execute_result",
          "data": {
            "text/html": [
              "<div>\n",
              "<style scoped>\n",
              "    .dataframe tbody tr th:only-of-type {\n",
              "        vertical-align: middle;\n",
              "    }\n",
              "\n",
              "    .dataframe tbody tr th {\n",
              "        vertical-align: top;\n",
              "    }\n",
              "\n",
              "    .dataframe thead th {\n",
              "        text-align: right;\n",
              "    }\n",
              "</style>\n",
              "<table border=\"1\" class=\"dataframe\">\n",
              "  <thead>\n",
              "    <tr style=\"text-align: right;\">\n",
              "      <th></th>\n",
              "      <th>publish_date</th>\n",
              "    </tr>\n",
              "  </thead>\n",
              "  <tbody>\n",
              "    <tr>\n",
              "      <th>publish_date</th>\n",
              "      <td>1.0</td>\n",
              "    </tr>\n",
              "  </tbody>\n",
              "</table>\n",
              "</div>"
            ],
            "text/plain": [
              "              publish_date\n",
              "publish_date           1.0"
            ]
          },
          "metadata": {
            "tags": []
          },
          "execution_count": 29
        }
      ]
    },
    {
      "cell_type": "code",
      "metadata": {
        "id": "N0Hm3F1YBt84",
        "colab": {
          "base_uri": "https://localhost:8080/",
          "height": 197
        },
        "outputId": "a540178a-2b88-4c54-adc8-489164a48e0e"
      },
      "source": [
        "sns.set_palette('viridis')\n",
        "sns.pairplot(df1)\n",
        "plt.show()"
      ],
      "execution_count": 30,
      "outputs": [
        {
          "output_type": "display_data",
          "data": {
            "image/png": "[encoded data removed]",
            "text/plain": [
              "<Figure size 180x180 with 2 Axes>"
            ]
          },
          "metadata": {
            "tags": []
          }
        }
      ]
    },
    {
      "cell_type": "code",
      "metadata": {
        "id": "Jo__sdY6Bt86",
        "colab": {
          "base_uri": "https://localhost:8080/"
        },
        "outputId": "3b8259a9-8bc3-46a5-932e-f758e79f1cf1"
      },
      "source": [
        "df1['headline_text'].value_counts()"
      ],
      "execution_count": 31,
      "outputs": [
        {
          "output_type": "execute_result",
          "data": {
            "text/plain": [
              "Sacred Space                                      47\n",
              "City round up                                     45\n",
              "It's a new kind of 'rat'h race                    43\n",
              "Youngest user of fairness creams                  40\n",
              "In Pics: The week gone by                         40\n",
              "                                                  ..\n",
              "Techno magic at IIT                                1\n",
              "IAF's two new airbases in Rajasthan                1\n",
              "Railways mechanical engineering jubilee            1\n",
              "Sachin-Anjali: Jodi No 1                           1\n",
              "Mutual funds reopen doors to arbitrage schemes     1\n",
              "Name: headline_text, Length: 963078, dtype: int64"
            ]
          },
          "metadata": {
            "tags": []
          },
          "execution_count": 31
        }
      ]
    },
    {
      "cell_type": "code",
      "metadata": {
        "id": "UrgBQgnrBt88",
        "colab": {
          "base_uri": "https://localhost:8080/"
        },
        "outputId": "fa165c53-d483-40e9-ddad-08b7561bdffa"
      },
      "source": [
        "df1['headline_category'].value_counts()"
      ],
      "execution_count": 32,
      "outputs": [
        {
          "output_type": "execute_result",
          "data": {
            "text/plain": [
              "india                                        142329\n",
              "unknown                                      132881\n",
              "business.india-business                       49689\n",
              "city.delhi                                    45762\n",
              "city.mumbai                                   41785\n",
              "                                              ...  \n",
              "sports.football.epl.interviews                    1\n",
              "sports.cricket.west-indies-in-new-zealand         1\n",
              "entertainment.beauty-pageants.news                1\n",
              "life-style.health-fitness                         1\n",
              "bu                                                1\n",
              "Name: headline_category, Length: 396, dtype: int64"
            ]
          },
          "metadata": {
            "tags": []
          },
          "execution_count": 32
        }
      ]
    },
    {
      "cell_type": "markdown",
      "metadata": {
        "id": "_HGlHjlzBt8-"
      },
      "source": [
        "## Now we can do EDA (Exploratry Data Analysis) using NLP & NLTK tools"
      ]
    },
    {
      "cell_type": "markdown",
      "metadata": {
        "id": "Bxl0DZJYBt8-"
      },
      "source": [
        "First, I’ll take a look at the number of characters present in each sentence. This can give us a rough idea about the news headline length."
      ]
    },
    {
      "cell_type": "code",
      "metadata": {
        "id": "MPnnvGmdBt8-",
        "colab": {
          "base_uri": "https://localhost:8080/",
          "height": 428
        },
        "outputId": "7f21bb53-8b88-4261-a726-39c05a46e021"
      },
      "source": [
        "df1['headline_text'].str.len().hist()\n",
        "plt.show()"
      ],
      "execution_count": 33,
      "outputs": [
        {
          "output_type": "display_data",
          "data": {
            "image/png": "[encoded data removed]",
            "text/plain": [
              "<Figure size 576x504 with 1 Axes>"
            ]
          },
          "metadata": {
            "tags": []
          }
        }
      ]
    },
    {
      "cell_type": "markdown",
      "metadata": {
        "id": "8y0c4VxwBt9B"
      },
      "source": [
        "The histogram shows that news headlines range from 10 to 70 characters and generally, it is between 25 to 55 characters.\n",
        "Now, we will move on to data exploration at a word-level. Let’s plot the number of words appearing in each news headline."
      ]
    },
    {
      "cell_type": "markdown",
      "metadata": {
        "id": "bqSSNJEcBt9E"
      },
      "source": [
        "The average word length ranges between 1 to 18 with 10 being the most common length. Does it mean that people are using really short words in news headlines?\n",
        "\n",
        "Let’s find out.\n",
        "One reason why this may not be true is stopwords. Stopwords are the words that are most commonly used in any language such as “the”,” a”,” an” etc. As these words are probably small in length these words may have caused the above graph to be left-skewed.\n",
        "\n",
        "Analyzing the amount and the types of stopwords can give us some good insights into the data.\n",
        "To get the corpus containing stopwords you can use the nltk library. Nltk contains stopwords from many languages. Since we are only dealing with English news I will filter the English stopwords from the corpus"
      ]
    },
    {
      "cell_type": "code",
      "metadata": {
        "id": "IUfDaATTBt9E",
        "colab": {
          "base_uri": "https://localhost:8080/"
        },
        "outputId": "06eea458-59dc-42d6-d494-d1f7ab1b88b8"
      },
      "source": [
        "import nltk\n",
        "from nltk.corpus import stopwords\n",
        "nltk.download('stopwords')\n",
        "stop=set(stopwords.words('english'))"
      ],
      "execution_count": 36,
      "outputs": [
        {
          "output_type": "stream",
          "text": [
            "[nltk_data] Downloading package stopwords to /root/nltk_data...\n",
            "[nltk_data]   Unzipping corpora/stopwords.zip.\n"
          ],
          "name": "stdout"
        }
      ]
    },
    {
      "cell_type": "markdown",
      "metadata": {
        "id": "wx5EeKzmBt9H"
      },
      "source": [
        "Now, we’ll create the corpus."
      ]
    },
    {
      "cell_type": "markdown",
      "metadata": {
        "id": "K-9a2_zcBt9J"
      },
      "source": [
        "Now we know which stopwords occur frequently in our text, let’s inspect which words other than these stopwords occur frequently.\n",
        "We will use the counter function from the collections library to count and store the occurrences of each word in a list of tuples. This is a very useful function when we deal with word-level analysis in natural language processing."
      ]
    },
    {
      "cell_type": "code",
      "metadata": {
        "id": "fDwS-1HTQh08"
      },
      "source": [
        ""
      ],
      "execution_count": null,
      "outputs": []
    },
    {
      "cell_type": "code",
      "metadata": {
        "id": "VZD62w2gQiTo"
      },
      "source": [
        ""
      ],
      "execution_count": null,
      "outputs": []
    },
    {
      "cell_type": "code",
      "metadata": {
        "id": "amVzvRPAQit1"
      },
      "source": [
        ""
      ],
      "execution_count": null,
      "outputs": []
    },
    {
      "cell_type": "code",
      "metadata": {
        "id": "SdV6pZBbQjK5"
      },
      "source": [
        ""
      ],
      "execution_count": null,
      "outputs": []
    },
    {
      "cell_type": "code",
      "metadata": {
        "id": "5jZvKD2dQjnP"
      },
      "source": [
        ""
      ],
      "execution_count": null,
      "outputs": []
    },
    {
      "cell_type": "code",
      "metadata": {
        "id": "2MXprIVzQkC_"
      },
      "source": [
        ""
      ],
      "execution_count": null,
      "outputs": []
    },
    {
      "cell_type": "code",
      "metadata": {
        "id": "gZaoaj-YQkfR"
      },
      "source": [
        ""
      ],
      "execution_count": null,
      "outputs": []
    },
    {
      "cell_type": "code",
      "metadata": {
        "id": "SJIBI37CQk8f"
      },
      "source": [
        ""
      ],
      "execution_count": null,
      "outputs": []
    },
    {
      "cell_type": "code",
      "metadata": {
        "id": "F3u9xgVoQlK2"
      },
      "source": [
        ""
      ],
      "execution_count": null,
      "outputs": []
    },
    {
      "cell_type": "code",
      "metadata": {
        "id": "3YujmqZ3Qkt9"
      },
      "source": [
        ""
      ],
      "execution_count": null,
      "outputs": []
    },
    {
      "cell_type": "code",
      "metadata": {
        "id": "W2ASX-6lQkSd"
      },
      "source": [
        ""
      ],
      "execution_count": null,
      "outputs": []
    },
    {
      "cell_type": "code",
      "metadata": {
        "id": "uCQ1NtsjQjz_"
      },
      "source": [
        ""
      ],
      "execution_count": null,
      "outputs": []
    },
    {
      "cell_type": "code",
      "metadata": {
        "id": "CUIry1l4QjXa"
      },
      "source": [
        ""
      ],
      "execution_count": null,
      "outputs": []
    },
    {
      "cell_type": "code",
      "metadata": {
        "id": "aISHPjgZQi8g"
      },
      "source": [
        ""
      ],
      "execution_count": null,
      "outputs": []
    },
    {
      "cell_type": "code",
      "metadata": {
        "id": "mAAMTJkLQifc"
      },
      "source": [
        ""
      ],
      "execution_count": null,
      "outputs": []
    },
    {
      "cell_type": "code",
      "metadata": {
        "id": "KbTAuKgwQiFp"
      },
      "source": [
        ""
      ],
      "execution_count": null,
      "outputs": []
    },
    {
      "cell_type": "code",
      "metadata": {
        "id": "RD9A2Q-lBt9J",
        "colab": {
          "base_uri": "https://localhost:8080/",
          "height": 381
        },
        "outputId": "e5d11aa0-dfe6-4c7e-adec-dc9b868f5e4e"
      },
      "source": [
        "from collections import Counter\n",
        "counter=Counter(corpus)\n",
        "most=counter.most_common()\n",
        "x, y= [], []\n",
        "for word,count in most[:40]:\n",
        "    if (word not in stop):\n",
        "        x.append(word)\n",
        "        y.append(count)\n",
        "        \n",
        "sns.barplot(x=y,y=x)\n",
        "plt.show()"
      ],
      "execution_count": 44,
      "outputs": [
        {
          "output_type": "error",
          "ename": "ValueError",
          "evalue": "ignored",
          "traceback": [
            "\u001b[0;31m---------------------------------------------------------------------------\u001b[0m",
            "\u001b[0;31mValueError\u001b[0m                                Traceback (most recent call last)",
            "\u001b[0;32m<ipython-input-44-bc9b8f25544d>\u001b[0m in \u001b[0;36m<module>\u001b[0;34m()\u001b[0m\n\u001b[1;32m      8\u001b[0m         \u001b[0my\u001b[0m\u001b[0;34m.\u001b[0m\u001b[0mappend\u001b[0m\u001b[0;34m(\u001b[0m\u001b[0mcount\u001b[0m\u001b[0;34m)\u001b[0m\u001b[0;34m\u001b[0m\u001b[0;34m\u001b[0m\u001b[0m\n\u001b[1;32m      9\u001b[0m \u001b[0;34m\u001b[0m\u001b[0m\n\u001b[0;32m---> 10\u001b[0;31m \u001b[0msns\u001b[0m\u001b[0;34m.\u001b[0m\u001b[0mbarplot\u001b[0m\u001b[0;34m(\u001b[0m\u001b[0mx\u001b[0m\u001b[0;34m=\u001b[0m\u001b[0my\u001b[0m\u001b[0;34m,\u001b[0m\u001b[0my\u001b[0m\u001b[0;34m=\u001b[0m\u001b[0mx\u001b[0m\u001b[0;34m)\u001b[0m\u001b[0;34m\u001b[0m\u001b[0;34m\u001b[0m\u001b[0m\n\u001b[0m\u001b[1;32m     11\u001b[0m \u001b[0mplt\u001b[0m\u001b[0;34m.\u001b[0m\u001b[0mshow\u001b[0m\u001b[0;34m(\u001b[0m\u001b[0;34m)\u001b[0m\u001b[0;34m\u001b[0m\u001b[0;34m\u001b[0m\u001b[0m\n",
            "\u001b[0;32m/usr/local/lib/python3.6/dist-packages/seaborn/_decorators.py\u001b[0m in \u001b[0;36minner_f\u001b[0;34m(*args, **kwargs)\u001b[0m\n\u001b[1;32m     44\u001b[0m             )\n\u001b[1;32m     45\u001b[0m         \u001b[0mkwargs\u001b[0m\u001b[0;34m.\u001b[0m\u001b[0mupdate\u001b[0m\u001b[0;34m(\u001b[0m\u001b[0;34m{\u001b[0m\u001b[0mk\u001b[0m\u001b[0;34m:\u001b[0m \u001b[0marg\u001b[0m \u001b[0;32mfor\u001b[0m \u001b[0mk\u001b[0m\u001b[0;34m,\u001b[0m \u001b[0marg\u001b[0m \u001b[0;32min\u001b[0m \u001b[0mzip\u001b[0m\u001b[0;34m(\u001b[0m\u001b[0msig\u001b[0m\u001b[0;34m.\u001b[0m\u001b[0mparameters\u001b[0m\u001b[0;34m,\u001b[0m \u001b[0margs\u001b[0m\u001b[0;34m)\u001b[0m\u001b[0;34m}\u001b[0m\u001b[0;34m)\u001b[0m\u001b[0;34m\u001b[0m\u001b[0;34m\u001b[0m\u001b[0m\n\u001b[0;32m---> 46\u001b[0;31m         \u001b[0;32mreturn\u001b[0m \u001b[0mf\u001b[0m\u001b[0;34m(\u001b[0m\u001b[0;34m**\u001b[0m\u001b[0mkwargs\u001b[0m\u001b[0;34m)\u001b[0m\u001b[0;34m\u001b[0m\u001b[0;34m\u001b[0m\u001b[0m\n\u001b[0m\u001b[1;32m     47\u001b[0m     \u001b[0;32mreturn\u001b[0m \u001b[0minner_f\u001b[0m\u001b[0;34m\u001b[0m\u001b[0;34m\u001b[0m\u001b[0m\n\u001b[1;32m     48\u001b[0m \u001b[0;34m\u001b[0m\u001b[0m\n",
            "\u001b[0;32m/usr/local/lib/python3.6/dist-packages/seaborn/categorical.py\u001b[0m in \u001b[0;36mbarplot\u001b[0;34m(x, y, hue, data, order, hue_order, estimator, ci, n_boot, units, seed, orient, color, palette, saturation, errcolor, errwidth, capsize, dodge, ax, **kwargs)\u001b[0m\n\u001b[1;32m   3170\u001b[0m                           \u001b[0mestimator\u001b[0m\u001b[0;34m,\u001b[0m \u001b[0mci\u001b[0m\u001b[0;34m,\u001b[0m \u001b[0mn_boot\u001b[0m\u001b[0;34m,\u001b[0m \u001b[0munits\u001b[0m\u001b[0;34m,\u001b[0m \u001b[0mseed\u001b[0m\u001b[0;34m,\u001b[0m\u001b[0;34m\u001b[0m\u001b[0;34m\u001b[0m\u001b[0m\n\u001b[1;32m   3171\u001b[0m                           \u001b[0morient\u001b[0m\u001b[0;34m,\u001b[0m \u001b[0mcolor\u001b[0m\u001b[0;34m,\u001b[0m \u001b[0mpalette\u001b[0m\u001b[0;34m,\u001b[0m \u001b[0msaturation\u001b[0m\u001b[0;34m,\u001b[0m\u001b[0;34m\u001b[0m\u001b[0;34m\u001b[0m\u001b[0m\n\u001b[0;32m-> 3172\u001b[0;31m                           errcolor, errwidth, capsize, dodge)\n\u001b[0m\u001b[1;32m   3173\u001b[0m \u001b[0;34m\u001b[0m\u001b[0m\n\u001b[1;32m   3174\u001b[0m     \u001b[0;32mif\u001b[0m \u001b[0max\u001b[0m \u001b[0;32mis\u001b[0m \u001b[0;32mNone\u001b[0m\u001b[0;34m:\u001b[0m\u001b[0;34m\u001b[0m\u001b[0;34m\u001b[0m\u001b[0m\n",
            "\u001b[0;32m/usr/local/lib/python3.6/dist-packages/seaborn/categorical.py\u001b[0m in \u001b[0;36m__init__\u001b[0;34m(self, x, y, hue, data, order, hue_order, estimator, ci, n_boot, units, seed, orient, color, palette, saturation, errcolor, errwidth, capsize, dodge)\u001b[0m\n\u001b[1;32m   1584\u001b[0m         self.establish_variables(x, y, hue, data, orient,\n\u001b[1;32m   1585\u001b[0m                                  order, hue_order, units)\n\u001b[0;32m-> 1586\u001b[0;31m         \u001b[0mself\u001b[0m\u001b[0;34m.\u001b[0m\u001b[0mestablish_colors\u001b[0m\u001b[0;34m(\u001b[0m\u001b[0mcolor\u001b[0m\u001b[0;34m,\u001b[0m \u001b[0mpalette\u001b[0m\u001b[0;34m,\u001b[0m \u001b[0msaturation\u001b[0m\u001b[0;34m)\u001b[0m\u001b[0;34m\u001b[0m\u001b[0;34m\u001b[0m\u001b[0m\n\u001b[0m\u001b[1;32m   1587\u001b[0m         \u001b[0mself\u001b[0m\u001b[0;34m.\u001b[0m\u001b[0mestimate_statistic\u001b[0m\u001b[0;34m(\u001b[0m\u001b[0mestimator\u001b[0m\u001b[0;34m,\u001b[0m \u001b[0mci\u001b[0m\u001b[0;34m,\u001b[0m \u001b[0mn_boot\u001b[0m\u001b[0;34m,\u001b[0m \u001b[0mseed\u001b[0m\u001b[0;34m)\u001b[0m\u001b[0;34m\u001b[0m\u001b[0;34m\u001b[0m\u001b[0m\n\u001b[1;32m   1588\u001b[0m \u001b[0;34m\u001b[0m\u001b[0m\n",
            "\u001b[0;32m/usr/local/lib/python3.6/dist-packages/seaborn/categorical.py\u001b[0m in \u001b[0;36mestablish_colors\u001b[0;34m(self, color, palette, saturation)\u001b[0m\n\u001b[1;32m    317\u001b[0m         \u001b[0;31m# Determine the gray color to use for the lines framing the plot\u001b[0m\u001b[0;34m\u001b[0m\u001b[0;34m\u001b[0m\u001b[0;34m\u001b[0m\u001b[0m\n\u001b[1;32m    318\u001b[0m         \u001b[0mlight_vals\u001b[0m \u001b[0;34m=\u001b[0m \u001b[0;34m[\u001b[0m\u001b[0mcolorsys\u001b[0m\u001b[0;34m.\u001b[0m\u001b[0mrgb_to_hls\u001b[0m\u001b[0;34m(\u001b[0m\u001b[0;34m*\u001b[0m\u001b[0mc\u001b[0m\u001b[0;34m)\u001b[0m\u001b[0;34m[\u001b[0m\u001b[0;36m1\u001b[0m\u001b[0;34m]\u001b[0m \u001b[0;32mfor\u001b[0m \u001b[0mc\u001b[0m \u001b[0;32min\u001b[0m \u001b[0mrgb_colors\u001b[0m\u001b[0;34m]\u001b[0m\u001b[0;34m\u001b[0m\u001b[0;34m\u001b[0m\u001b[0m\n\u001b[0;32m--> 319\u001b[0;31m         \u001b[0mlum\u001b[0m \u001b[0;34m=\u001b[0m \u001b[0mmin\u001b[0m\u001b[0;34m(\u001b[0m\u001b[0mlight_vals\u001b[0m\u001b[0;34m)\u001b[0m \u001b[0;34m*\u001b[0m \u001b[0;36m.6\u001b[0m\u001b[0;34m\u001b[0m\u001b[0;34m\u001b[0m\u001b[0m\n\u001b[0m\u001b[1;32m    320\u001b[0m         \u001b[0mgray\u001b[0m \u001b[0;34m=\u001b[0m \u001b[0mmpl\u001b[0m\u001b[0;34m.\u001b[0m\u001b[0mcolors\u001b[0m\u001b[0;34m.\u001b[0m\u001b[0mrgb2hex\u001b[0m\u001b[0;34m(\u001b[0m\u001b[0;34m(\u001b[0m\u001b[0mlum\u001b[0m\u001b[0;34m,\u001b[0m \u001b[0mlum\u001b[0m\u001b[0;34m,\u001b[0m \u001b[0mlum\u001b[0m\u001b[0;34m)\u001b[0m\u001b[0;34m)\u001b[0m\u001b[0;34m\u001b[0m\u001b[0;34m\u001b[0m\u001b[0m\n\u001b[1;32m    321\u001b[0m \u001b[0;34m\u001b[0m\u001b[0m\n",
            "\u001b[0;31mValueError\u001b[0m: min() arg is an empty sequence"
          ]
        }
      ]
    },
    {
      "cell_type": "markdown",
      "metadata": {
        "id": "XM89pMeHBt9L"
      },
      "source": [
        "Wow! The “Rs”, “India” and “held” dominate the headlines over the last 15 year but when we observe other words in the graph they are all related to the RS — India."
      ]
    },
    {
      "cell_type": "markdown",
      "metadata": {
        "id": "VakhPU7jBt9L"
      },
      "source": [
        "## Ngram exploration\n",
        "Ngrams are simply contiguous sequences of n words. For example “riverbank”,” The three musketeers” etc.\n",
        "If the number of words is two, it is called bigram. For 3 words it is called a trigram and so on.\n",
        "Looking at most frequent n-grams can give you a better understanding of the context in which the word was used."
      ]
    },
    {
      "cell_type": "code",
      "metadata": {
        "id": "ywrJJF85Bt9L",
        "colab": {
          "base_uri": "https://localhost:8080/"
        },
        "outputId": "c8da475b-5ccc-42df-fb4f-5ca745ae77a2"
      },
      "source": [
        "from nltk.util import ngrams\n",
        "list(ngrams(['I' ,'went','to','the','river','bank'],2))"
      ],
      "execution_count": 39,
      "outputs": [
        {
          "output_type": "execute_result",
          "data": {
            "text/plain": [
              "[('I', 'went'),\n",
              " ('went', 'to'),\n",
              " ('to', 'the'),\n",
              " ('the', 'river'),\n",
              " ('river', 'bank')]"
            ]
          },
          "metadata": {
            "tags": []
          },
          "execution_count": 39
        }
      ]
    },
    {
      "cell_type": "markdown",
      "metadata": {
        "id": "e0nsIbM5Bt9N"
      },
      "source": [
        "To build a representation of our vocabulary we will use Countvectorizer. Countvectorizer is a simple method used to tokenize, vectorize and represent the corpus in an appropriate form. It is available in sklearn.feature_engineering.text\n",
        "So with all this, we will analyze the top bigrams in our news headlines."
      ]
    },
    {
      "cell_type": "code",
      "metadata": {
        "id": "-fZk_bRHBt9N",
        "colab": {
          "base_uri": "https://localhost:8080/",
          "height": 381
        },
        "outputId": "154bd71a-2fb7-41c0-b31f-6eb986a786a5"
      },
      "source": [
        "from sklearn.feature_extraction.text import CountVectorizer\n",
        "def get_top_ngram(corpus, n=None):\n",
        "    vec = CountVectorizer(ngram_range=(n, n)).fit(corpus)\n",
        "    bag_of_words = vec.transform(corpus)\n",
        "    sum_words = bag_of_words.sum(axis=0) \n",
        "    words_freq = [(word, sum_words[0, idx]) \n",
        "                  for word, idx in vec.vocabulary_.items()]\n",
        "    words_freq =sorted(words_freq, key = lambda x: x[1], reverse=True)\n",
        "    return words_freq[:10]\n",
        "top_n_bigrams=get_top_ngram(df1['headline_text'],2)[:10]\n",
        "x,y=map(list,zip(*top_n_bigrams))\n",
        "sns.barplot(x=y,y=x)\n",
        "plt.show()"
      ],
      "execution_count": 40,
      "outputs": [
        {
          "output_type": "error",
          "ename": "ValueError",
          "evalue": "ignored",
          "traceback": [
            "\u001b[0;31m---------------------------------------------------------------------------\u001b[0m",
            "\u001b[0;31mValueError\u001b[0m                                Traceback (most recent call last)",
            "\u001b[0;32m<ipython-input-40-cc27802d73b2>\u001b[0m in \u001b[0;36m<module>\u001b[0;34m()\u001b[0m\n\u001b[1;32m      8\u001b[0m     \u001b[0mwords_freq\u001b[0m \u001b[0;34m=\u001b[0m\u001b[0msorted\u001b[0m\u001b[0;34m(\u001b[0m\u001b[0mwords_freq\u001b[0m\u001b[0;34m,\u001b[0m \u001b[0mkey\u001b[0m \u001b[0;34m=\u001b[0m \u001b[0;32mlambda\u001b[0m \u001b[0mx\u001b[0m\u001b[0;34m:\u001b[0m \u001b[0mx\u001b[0m\u001b[0;34m[\u001b[0m\u001b[0;36m1\u001b[0m\u001b[0;34m]\u001b[0m\u001b[0;34m,\u001b[0m \u001b[0mreverse\u001b[0m\u001b[0;34m=\u001b[0m\u001b[0;32mTrue\u001b[0m\u001b[0;34m)\u001b[0m\u001b[0;34m\u001b[0m\u001b[0;34m\u001b[0m\u001b[0m\n\u001b[1;32m      9\u001b[0m     \u001b[0;32mreturn\u001b[0m \u001b[0mwords_freq\u001b[0m\u001b[0;34m[\u001b[0m\u001b[0;34m:\u001b[0m\u001b[0;36m10\u001b[0m\u001b[0;34m]\u001b[0m\u001b[0;34m\u001b[0m\u001b[0;34m\u001b[0m\u001b[0m\n\u001b[0;32m---> 10\u001b[0;31m \u001b[0mtop_n_bigrams\u001b[0m\u001b[0;34m=\u001b[0m\u001b[0mget_top_ngram\u001b[0m\u001b[0;34m(\u001b[0m\u001b[0mdf1\u001b[0m\u001b[0;34m[\u001b[0m\u001b[0;34m'headline_text'\u001b[0m\u001b[0;34m]\u001b[0m\u001b[0;34m,\u001b[0m\u001b[0;36m2\u001b[0m\u001b[0;34m)\u001b[0m\u001b[0;34m[\u001b[0m\u001b[0;34m:\u001b[0m\u001b[0;36m10\u001b[0m\u001b[0;34m]\u001b[0m\u001b[0;34m\u001b[0m\u001b[0;34m\u001b[0m\u001b[0m\n\u001b[0m\u001b[1;32m     11\u001b[0m \u001b[0mx\u001b[0m\u001b[0;34m,\u001b[0m\u001b[0my\u001b[0m\u001b[0;34m=\u001b[0m\u001b[0mmap\u001b[0m\u001b[0;34m(\u001b[0m\u001b[0mlist\u001b[0m\u001b[0;34m,\u001b[0m\u001b[0mzip\u001b[0m\u001b[0;34m(\u001b[0m\u001b[0;34m*\u001b[0m\u001b[0mtop_n_bigrams\u001b[0m\u001b[0;34m)\u001b[0m\u001b[0;34m)\u001b[0m\u001b[0;34m\u001b[0m\u001b[0;34m\u001b[0m\u001b[0m\n\u001b[1;32m     12\u001b[0m \u001b[0msns\u001b[0m\u001b[0;34m.\u001b[0m\u001b[0mbarplot\u001b[0m\u001b[0;34m(\u001b[0m\u001b[0mx\u001b[0m\u001b[0;34m=\u001b[0m\u001b[0my\u001b[0m\u001b[0;34m,\u001b[0m\u001b[0my\u001b[0m\u001b[0;34m=\u001b[0m\u001b[0mx\u001b[0m\u001b[0;34m)\u001b[0m\u001b[0;34m\u001b[0m\u001b[0;34m\u001b[0m\u001b[0m\n",
            "\u001b[0;32m<ipython-input-40-cc27802d73b2>\u001b[0m in \u001b[0;36mget_top_ngram\u001b[0;34m(corpus, n)\u001b[0m\n\u001b[1;32m      1\u001b[0m \u001b[0;32mfrom\u001b[0m \u001b[0msklearn\u001b[0m\u001b[0;34m.\u001b[0m\u001b[0mfeature_extraction\u001b[0m\u001b[0;34m.\u001b[0m\u001b[0mtext\u001b[0m \u001b[0;32mimport\u001b[0m \u001b[0mCountVectorizer\u001b[0m\u001b[0;34m\u001b[0m\u001b[0;34m\u001b[0m\u001b[0m\n\u001b[1;32m      2\u001b[0m \u001b[0;32mdef\u001b[0m \u001b[0mget_top_ngram\u001b[0m\u001b[0;34m(\u001b[0m\u001b[0mcorpus\u001b[0m\u001b[0;34m,\u001b[0m \u001b[0mn\u001b[0m\u001b[0;34m=\u001b[0m\u001b[0;32mNone\u001b[0m\u001b[0;34m)\u001b[0m\u001b[0;34m:\u001b[0m\u001b[0;34m\u001b[0m\u001b[0;34m\u001b[0m\u001b[0m\n\u001b[0;32m----> 3\u001b[0;31m     \u001b[0mvec\u001b[0m \u001b[0;34m=\u001b[0m \u001b[0mCountVectorizer\u001b[0m\u001b[0;34m(\u001b[0m\u001b[0mngram_range\u001b[0m\u001b[0;34m=\u001b[0m\u001b[0;34m(\u001b[0m\u001b[0mn\u001b[0m\u001b[0;34m,\u001b[0m \u001b[0mn\u001b[0m\u001b[0;34m)\u001b[0m\u001b[0;34m)\u001b[0m\u001b[0;34m.\u001b[0m\u001b[0mfit\u001b[0m\u001b[0;34m(\u001b[0m\u001b[0mcorpus\u001b[0m\u001b[0;34m)\u001b[0m\u001b[0;34m\u001b[0m\u001b[0;34m\u001b[0m\u001b[0m\n\u001b[0m\u001b[1;32m      4\u001b[0m     \u001b[0mbag_of_words\u001b[0m \u001b[0;34m=\u001b[0m \u001b[0mvec\u001b[0m\u001b[0;34m.\u001b[0m\u001b[0mtransform\u001b[0m\u001b[0;34m(\u001b[0m\u001b[0mcorpus\u001b[0m\u001b[0;34m)\u001b[0m\u001b[0;34m\u001b[0m\u001b[0;34m\u001b[0m\u001b[0m\n\u001b[1;32m      5\u001b[0m     \u001b[0msum_words\u001b[0m \u001b[0;34m=\u001b[0m \u001b[0mbag_of_words\u001b[0m\u001b[0;34m.\u001b[0m\u001b[0msum\u001b[0m\u001b[0;34m(\u001b[0m\u001b[0maxis\u001b[0m\u001b[0;34m=\u001b[0m\u001b[0;36m0\u001b[0m\u001b[0;34m)\u001b[0m\u001b[0;34m\u001b[0m\u001b[0;34m\u001b[0m\u001b[0m\n",
            "\u001b[0;32m/usr/local/lib/python3.6/dist-packages/sklearn/feature_extraction/text.py\u001b[0m in \u001b[0;36mfit\u001b[0;34m(self, raw_documents, y)\u001b[0m\n\u001b[1;32m   1184\u001b[0m         \"\"\"\n\u001b[1;32m   1185\u001b[0m         \u001b[0mself\u001b[0m\u001b[0;34m.\u001b[0m\u001b[0m_warn_for_unused_params\u001b[0m\u001b[0;34m(\u001b[0m\u001b[0;34m)\u001b[0m\u001b[0;34m\u001b[0m\u001b[0;34m\u001b[0m\u001b[0m\n\u001b[0;32m-> 1186\u001b[0;31m         \u001b[0mself\u001b[0m\u001b[0;34m.\u001b[0m\u001b[0mfit_transform\u001b[0m\u001b[0;34m(\u001b[0m\u001b[0mraw_documents\u001b[0m\u001b[0;34m)\u001b[0m\u001b[0;34m\u001b[0m\u001b[0;34m\u001b[0m\u001b[0m\n\u001b[0m\u001b[1;32m   1187\u001b[0m         \u001b[0;32mreturn\u001b[0m \u001b[0mself\u001b[0m\u001b[0;34m\u001b[0m\u001b[0;34m\u001b[0m\u001b[0m\n\u001b[1;32m   1188\u001b[0m \u001b[0;34m\u001b[0m\u001b[0m\n",
            "\u001b[0;32m/usr/local/lib/python3.6/dist-packages/sklearn/feature_extraction/text.py\u001b[0m in \u001b[0;36mfit_transform\u001b[0;34m(self, raw_documents, y)\u001b[0m\n\u001b[1;32m   1218\u001b[0m \u001b[0;34m\u001b[0m\u001b[0m\n\u001b[1;32m   1219\u001b[0m         vocabulary, X = self._count_vocab(raw_documents,\n\u001b[0;32m-> 1220\u001b[0;31m                                           self.fixed_vocabulary_)\n\u001b[0m\u001b[1;32m   1221\u001b[0m \u001b[0;34m\u001b[0m\u001b[0m\n\u001b[1;32m   1222\u001b[0m         \u001b[0;32mif\u001b[0m \u001b[0mself\u001b[0m\u001b[0;34m.\u001b[0m\u001b[0mbinary\u001b[0m\u001b[0;34m:\u001b[0m\u001b[0;34m\u001b[0m\u001b[0;34m\u001b[0m\u001b[0m\n",
            "\u001b[0;32m/usr/local/lib/python3.6/dist-packages/sklearn/feature_extraction/text.py\u001b[0m in \u001b[0;36m_count_vocab\u001b[0;34m(self, raw_documents, fixed_vocab)\u001b[0m\n\u001b[1;32m   1129\u001b[0m         \u001b[0;32mfor\u001b[0m \u001b[0mdoc\u001b[0m \u001b[0;32min\u001b[0m \u001b[0mraw_documents\u001b[0m\u001b[0;34m:\u001b[0m\u001b[0;34m\u001b[0m\u001b[0;34m\u001b[0m\u001b[0m\n\u001b[1;32m   1130\u001b[0m             \u001b[0mfeature_counter\u001b[0m \u001b[0;34m=\u001b[0m \u001b[0;34m{\u001b[0m\u001b[0;34m}\u001b[0m\u001b[0;34m\u001b[0m\u001b[0;34m\u001b[0m\u001b[0m\n\u001b[0;32m-> 1131\u001b[0;31m             \u001b[0;32mfor\u001b[0m \u001b[0mfeature\u001b[0m \u001b[0;32min\u001b[0m \u001b[0manalyze\u001b[0m\u001b[0;34m(\u001b[0m\u001b[0mdoc\u001b[0m\u001b[0;34m)\u001b[0m\u001b[0;34m:\u001b[0m\u001b[0;34m\u001b[0m\u001b[0;34m\u001b[0m\u001b[0m\n\u001b[0m\u001b[1;32m   1132\u001b[0m                 \u001b[0;32mtry\u001b[0m\u001b[0;34m:\u001b[0m\u001b[0;34m\u001b[0m\u001b[0;34m\u001b[0m\u001b[0m\n\u001b[1;32m   1133\u001b[0m                     \u001b[0mfeature_idx\u001b[0m \u001b[0;34m=\u001b[0m \u001b[0mvocabulary\u001b[0m\u001b[0;34m[\u001b[0m\u001b[0mfeature\u001b[0m\u001b[0;34m]\u001b[0m\u001b[0;34m\u001b[0m\u001b[0;34m\u001b[0m\u001b[0m\n",
            "\u001b[0;32m/usr/local/lib/python3.6/dist-packages/sklearn/feature_extraction/text.py\u001b[0m in \u001b[0;36m_analyze\u001b[0;34m(doc, analyzer, tokenizer, ngrams, preprocessor, decoder, stop_words)\u001b[0m\n\u001b[1;32m     96\u001b[0m \u001b[0;34m\u001b[0m\u001b[0m\n\u001b[1;32m     97\u001b[0m     \u001b[0;32mif\u001b[0m \u001b[0mdecoder\u001b[0m \u001b[0;32mis\u001b[0m \u001b[0;32mnot\u001b[0m \u001b[0;32mNone\u001b[0m\u001b[0;34m:\u001b[0m\u001b[0;34m\u001b[0m\u001b[0;34m\u001b[0m\u001b[0m\n\u001b[0;32m---> 98\u001b[0;31m         \u001b[0mdoc\u001b[0m \u001b[0;34m=\u001b[0m \u001b[0mdecoder\u001b[0m\u001b[0;34m(\u001b[0m\u001b[0mdoc\u001b[0m\u001b[0;34m)\u001b[0m\u001b[0;34m\u001b[0m\u001b[0;34m\u001b[0m\u001b[0m\n\u001b[0m\u001b[1;32m     99\u001b[0m     \u001b[0;32mif\u001b[0m \u001b[0manalyzer\u001b[0m \u001b[0;32mis\u001b[0m \u001b[0;32mnot\u001b[0m \u001b[0;32mNone\u001b[0m\u001b[0;34m:\u001b[0m\u001b[0;34m\u001b[0m\u001b[0;34m\u001b[0m\u001b[0m\n\u001b[1;32m    100\u001b[0m         \u001b[0mdoc\u001b[0m \u001b[0;34m=\u001b[0m \u001b[0manalyzer\u001b[0m\u001b[0;34m(\u001b[0m\u001b[0mdoc\u001b[0m\u001b[0;34m)\u001b[0m\u001b[0;34m\u001b[0m\u001b[0;34m\u001b[0m\u001b[0m\n",
            "\u001b[0;32m/usr/local/lib/python3.6/dist-packages/sklearn/feature_extraction/text.py\u001b[0m in \u001b[0;36mdecode\u001b[0;34m(self, doc)\u001b[0m\n\u001b[1;32m    216\u001b[0m \u001b[0;34m\u001b[0m\u001b[0m\n\u001b[1;32m    217\u001b[0m         \u001b[0;32mif\u001b[0m \u001b[0mdoc\u001b[0m \u001b[0;32mis\u001b[0m \u001b[0mnp\u001b[0m\u001b[0;34m.\u001b[0m\u001b[0mnan\u001b[0m\u001b[0;34m:\u001b[0m\u001b[0;34m\u001b[0m\u001b[0;34m\u001b[0m\u001b[0m\n\u001b[0;32m--> 218\u001b[0;31m             raise ValueError(\"np.nan is an invalid document, expected byte or \"\n\u001b[0m\u001b[1;32m    219\u001b[0m                              \"unicode string.\")\n\u001b[1;32m    220\u001b[0m \u001b[0;34m\u001b[0m\u001b[0m\n",
            "\u001b[0;31mValueError\u001b[0m: np.nan is an invalid document, expected byte or unicode string."
          ]
        }
      ]
    },
    {
      "cell_type": "markdown",
      "metadata": {
        "id": "yzAs2DuaBt9P"
      },
      "source": [
        "## Textblob\n",
        "Textblob is a python library built on top of nltk. It has been around for some time and is very easy and convenient to use.\n",
        "The sentiment function of TextBlob returns two properties:\n",
        "polarity: is a floating-point number that lies in the range of [-1,1] where 1 means positive statement and -1 means a negative statement.\n",
        "subjectivity: refers to how someone’s judgment is shaped by personal opinions and feelings. Subjectivity is represented as a floating-point value which lies in the range of [0,1].\n",
        "I will run this function on our news headlines."
      ]
    },
    {
      "cell_type": "code",
      "metadata": {
        "id": "fQi4Tu1ZBt9Q",
        "colab": {
          "base_uri": "https://localhost:8080/"
        },
        "outputId": "a1beb051-2be0-483e-d29c-351794083480"
      },
      "source": [
        "from textblob import TextBlob\n",
        "TextBlob('100 people killed in Iraq').sentiment"
      ],
      "execution_count": 41,
      "outputs": [
        {
          "output_type": "execute_result",
          "data": {
            "text/plain": [
              "Sentiment(polarity=-0.2, subjectivity=0.0)"
            ]
          },
          "metadata": {
            "tags": []
          },
          "execution_count": 41
        }
      ]
    },
    {
      "cell_type": "code",
      "metadata": {
        "id": "kHBdYqx1Bt9R",
        "colab": {
          "base_uri": "https://localhost:8080/",
          "height": 433
        },
        "outputId": "069178b9-4dc3-4302-b104-da70b7ea211b"
      },
      "source": [
        "def polarity(text):\n",
        "    return TextBlob(text).sentiment.polarity\n",
        "df1['polarity_score']=df1['headline_text'].\\\n",
        "   apply(lambda x : polarity(x))\n",
        "df1['polarity_score'].hist()\n",
        "plt.show()"
      ],
      "execution_count": 42,
      "outputs": [
        {
          "output_type": "error",
          "ename": "TypeError",
          "evalue": "ignored",
          "traceback": [
            "\u001b[0;31m---------------------------------------------------------------------------\u001b[0m",
            "\u001b[0;31mTypeError\u001b[0m                                 Traceback (most recent call last)",
            "\u001b[0;32m<ipython-input-42-ff4ab74d6d7e>\u001b[0m in \u001b[0;36m<module>\u001b[0;34m()\u001b[0m\n\u001b[1;32m      1\u001b[0m \u001b[0;32mdef\u001b[0m \u001b[0mpolarity\u001b[0m\u001b[0;34m(\u001b[0m\u001b[0mtext\u001b[0m\u001b[0;34m)\u001b[0m\u001b[0;34m:\u001b[0m\u001b[0;34m\u001b[0m\u001b[0;34m\u001b[0m\u001b[0m\n\u001b[1;32m      2\u001b[0m     \u001b[0;32mreturn\u001b[0m \u001b[0mTextBlob\u001b[0m\u001b[0;34m(\u001b[0m\u001b[0mtext\u001b[0m\u001b[0;34m)\u001b[0m\u001b[0;34m.\u001b[0m\u001b[0msentiment\u001b[0m\u001b[0;34m.\u001b[0m\u001b[0mpolarity\u001b[0m\u001b[0;34m\u001b[0m\u001b[0;34m\u001b[0m\u001b[0m\n\u001b[0;32m----> 3\u001b[0;31m \u001b[0mdf1\u001b[0m\u001b[0;34m[\u001b[0m\u001b[0;34m'polarity_score'\u001b[0m\u001b[0;34m]\u001b[0m\u001b[0;34m=\u001b[0m\u001b[0mdf1\u001b[0m\u001b[0;34m[\u001b[0m\u001b[0;34m'headline_text'\u001b[0m\u001b[0;34m]\u001b[0m\u001b[0;34m.\u001b[0m   \u001b[0mapply\u001b[0m\u001b[0;34m(\u001b[0m\u001b[0;32mlambda\u001b[0m \u001b[0mx\u001b[0m \u001b[0;34m:\u001b[0m \u001b[0mpolarity\u001b[0m\u001b[0;34m(\u001b[0m\u001b[0mx\u001b[0m\u001b[0;34m)\u001b[0m\u001b[0;34m)\u001b[0m\u001b[0;34m\u001b[0m\u001b[0;34m\u001b[0m\u001b[0m\n\u001b[0m\u001b[1;32m      4\u001b[0m \u001b[0mdf1\u001b[0m\u001b[0;34m[\u001b[0m\u001b[0;34m'polarity_score'\u001b[0m\u001b[0;34m]\u001b[0m\u001b[0;34m.\u001b[0m\u001b[0mhist\u001b[0m\u001b[0;34m(\u001b[0m\u001b[0;34m)\u001b[0m\u001b[0;34m\u001b[0m\u001b[0;34m\u001b[0m\u001b[0m\n\u001b[1;32m      5\u001b[0m \u001b[0mplt\u001b[0m\u001b[0;34m.\u001b[0m\u001b[0mshow\u001b[0m\u001b[0;34m(\u001b[0m\u001b[0;34m)\u001b[0m\u001b[0;34m\u001b[0m\u001b[0;34m\u001b[0m\u001b[0m\n",
            "\u001b[0;32m/usr/local/lib/python3.6/dist-packages/pandas/core/series.py\u001b[0m in \u001b[0;36mapply\u001b[0;34m(self, func, convert_dtype, args, **kwds)\u001b[0m\n\u001b[1;32m   4210\u001b[0m             \u001b[0;32melse\u001b[0m\u001b[0;34m:\u001b[0m\u001b[0;34m\u001b[0m\u001b[0;34m\u001b[0m\u001b[0m\n\u001b[1;32m   4211\u001b[0m                 \u001b[0mvalues\u001b[0m \u001b[0;34m=\u001b[0m \u001b[0mself\u001b[0m\u001b[0;34m.\u001b[0m\u001b[0mastype\u001b[0m\u001b[0;34m(\u001b[0m\u001b[0mobject\u001b[0m\u001b[0;34m)\u001b[0m\u001b[0;34m.\u001b[0m\u001b[0m_values\u001b[0m\u001b[0;34m\u001b[0m\u001b[0;34m\u001b[0m\u001b[0m\n\u001b[0;32m-> 4212\u001b[0;31m                 \u001b[0mmapped\u001b[0m \u001b[0;34m=\u001b[0m \u001b[0mlib\u001b[0m\u001b[0;34m.\u001b[0m\u001b[0mmap_infer\u001b[0m\u001b[0;34m(\u001b[0m\u001b[0mvalues\u001b[0m\u001b[0;34m,\u001b[0m \u001b[0mf\u001b[0m\u001b[0;34m,\u001b[0m \u001b[0mconvert\u001b[0m\u001b[0;34m=\u001b[0m\u001b[0mconvert_dtype\u001b[0m\u001b[0;34m)\u001b[0m\u001b[0;34m\u001b[0m\u001b[0;34m\u001b[0m\u001b[0m\n\u001b[0m\u001b[1;32m   4213\u001b[0m \u001b[0;34m\u001b[0m\u001b[0m\n\u001b[1;32m   4214\u001b[0m         \u001b[0;32mif\u001b[0m \u001b[0mlen\u001b[0m\u001b[0;34m(\u001b[0m\u001b[0mmapped\u001b[0m\u001b[0;34m)\u001b[0m \u001b[0;32mand\u001b[0m \u001b[0misinstance\u001b[0m\u001b[0;34m(\u001b[0m\u001b[0mmapped\u001b[0m\u001b[0;34m[\u001b[0m\u001b[0;36m0\u001b[0m\u001b[0;34m]\u001b[0m\u001b[0;34m,\u001b[0m \u001b[0mSeries\u001b[0m\u001b[0;34m)\u001b[0m\u001b[0;34m:\u001b[0m\u001b[0;34m\u001b[0m\u001b[0;34m\u001b[0m\u001b[0m\n",
            "\u001b[0;32mpandas/_libs/lib.pyx\u001b[0m in \u001b[0;36mpandas._libs.lib.map_infer\u001b[0;34m()\u001b[0m\n",
            "\u001b[0;32m<ipython-input-42-ff4ab74d6d7e>\u001b[0m in \u001b[0;36m<lambda>\u001b[0;34m(x)\u001b[0m\n\u001b[1;32m      1\u001b[0m \u001b[0;32mdef\u001b[0m \u001b[0mpolarity\u001b[0m\u001b[0;34m(\u001b[0m\u001b[0mtext\u001b[0m\u001b[0;34m)\u001b[0m\u001b[0;34m:\u001b[0m\u001b[0;34m\u001b[0m\u001b[0;34m\u001b[0m\u001b[0m\n\u001b[1;32m      2\u001b[0m     \u001b[0;32mreturn\u001b[0m \u001b[0mTextBlob\u001b[0m\u001b[0;34m(\u001b[0m\u001b[0mtext\u001b[0m\u001b[0;34m)\u001b[0m\u001b[0;34m.\u001b[0m\u001b[0msentiment\u001b[0m\u001b[0;34m.\u001b[0m\u001b[0mpolarity\u001b[0m\u001b[0;34m\u001b[0m\u001b[0;34m\u001b[0m\u001b[0m\n\u001b[0;32m----> 3\u001b[0;31m \u001b[0mdf1\u001b[0m\u001b[0;34m[\u001b[0m\u001b[0;34m'polarity_score'\u001b[0m\u001b[0;34m]\u001b[0m\u001b[0;34m=\u001b[0m\u001b[0mdf1\u001b[0m\u001b[0;34m[\u001b[0m\u001b[0;34m'headline_text'\u001b[0m\u001b[0;34m]\u001b[0m\u001b[0;34m.\u001b[0m   \u001b[0mapply\u001b[0m\u001b[0;34m(\u001b[0m\u001b[0;32mlambda\u001b[0m \u001b[0mx\u001b[0m \u001b[0;34m:\u001b[0m \u001b[0mpolarity\u001b[0m\u001b[0;34m(\u001b[0m\u001b[0mx\u001b[0m\u001b[0;34m)\u001b[0m\u001b[0;34m)\u001b[0m\u001b[0;34m\u001b[0m\u001b[0;34m\u001b[0m\u001b[0m\n\u001b[0m\u001b[1;32m      4\u001b[0m \u001b[0mdf1\u001b[0m\u001b[0;34m[\u001b[0m\u001b[0;34m'polarity_score'\u001b[0m\u001b[0;34m]\u001b[0m\u001b[0;34m.\u001b[0m\u001b[0mhist\u001b[0m\u001b[0;34m(\u001b[0m\u001b[0;34m)\u001b[0m\u001b[0;34m\u001b[0m\u001b[0;34m\u001b[0m\u001b[0m\n\u001b[1;32m      5\u001b[0m \u001b[0mplt\u001b[0m\u001b[0;34m.\u001b[0m\u001b[0mshow\u001b[0m\u001b[0;34m(\u001b[0m\u001b[0;34m)\u001b[0m\u001b[0;34m\u001b[0m\u001b[0;34m\u001b[0m\u001b[0m\n",
            "\u001b[0;32m<ipython-input-42-ff4ab74d6d7e>\u001b[0m in \u001b[0;36mpolarity\u001b[0;34m(text)\u001b[0m\n\u001b[1;32m      1\u001b[0m \u001b[0;32mdef\u001b[0m \u001b[0mpolarity\u001b[0m\u001b[0;34m(\u001b[0m\u001b[0mtext\u001b[0m\u001b[0;34m)\u001b[0m\u001b[0;34m:\u001b[0m\u001b[0;34m\u001b[0m\u001b[0;34m\u001b[0m\u001b[0m\n\u001b[0;32m----> 2\u001b[0;31m     \u001b[0;32mreturn\u001b[0m \u001b[0mTextBlob\u001b[0m\u001b[0;34m(\u001b[0m\u001b[0mtext\u001b[0m\u001b[0;34m)\u001b[0m\u001b[0;34m.\u001b[0m\u001b[0msentiment\u001b[0m\u001b[0;34m.\u001b[0m\u001b[0mpolarity\u001b[0m\u001b[0;34m\u001b[0m\u001b[0;34m\u001b[0m\u001b[0m\n\u001b[0m\u001b[1;32m      3\u001b[0m \u001b[0mdf1\u001b[0m\u001b[0;34m[\u001b[0m\u001b[0;34m'polarity_score'\u001b[0m\u001b[0;34m]\u001b[0m\u001b[0;34m=\u001b[0m\u001b[0mdf1\u001b[0m\u001b[0;34m[\u001b[0m\u001b[0;34m'headline_text'\u001b[0m\u001b[0;34m]\u001b[0m\u001b[0;34m.\u001b[0m   \u001b[0mapply\u001b[0m\u001b[0;34m(\u001b[0m\u001b[0;32mlambda\u001b[0m \u001b[0mx\u001b[0m \u001b[0;34m:\u001b[0m \u001b[0mpolarity\u001b[0m\u001b[0;34m(\u001b[0m\u001b[0mx\u001b[0m\u001b[0;34m)\u001b[0m\u001b[0;34m)\u001b[0m\u001b[0;34m\u001b[0m\u001b[0;34m\u001b[0m\u001b[0m\n\u001b[1;32m      4\u001b[0m \u001b[0mdf1\u001b[0m\u001b[0;34m[\u001b[0m\u001b[0;34m'polarity_score'\u001b[0m\u001b[0;34m]\u001b[0m\u001b[0;34m.\u001b[0m\u001b[0mhist\u001b[0m\u001b[0;34m(\u001b[0m\u001b[0;34m)\u001b[0m\u001b[0;34m\u001b[0m\u001b[0;34m\u001b[0m\u001b[0m\n\u001b[1;32m      5\u001b[0m \u001b[0mplt\u001b[0m\u001b[0;34m.\u001b[0m\u001b[0mshow\u001b[0m\u001b[0;34m(\u001b[0m\u001b[0;34m)\u001b[0m\u001b[0;34m\u001b[0m\u001b[0;34m\u001b[0m\u001b[0m\n",
            "\u001b[0;32m/usr/local/lib/python3.6/dist-packages/textblob/blob.py\u001b[0m in \u001b[0;36m__init__\u001b[0;34m(self, text, tokenizer, pos_tagger, np_extractor, analyzer, parser, classifier, clean_html)\u001b[0m\n\u001b[1;32m    368\u001b[0m         \u001b[0;32mif\u001b[0m \u001b[0;32mnot\u001b[0m \u001b[0misinstance\u001b[0m\u001b[0;34m(\u001b[0m\u001b[0mtext\u001b[0m\u001b[0;34m,\u001b[0m \u001b[0mbasestring\u001b[0m\u001b[0;34m)\u001b[0m\u001b[0;34m:\u001b[0m\u001b[0;34m\u001b[0m\u001b[0;34m\u001b[0m\u001b[0m\n\u001b[1;32m    369\u001b[0m             raise TypeError('The `text` argument passed to `__init__(text)` '\n\u001b[0;32m--> 370\u001b[0;31m                             'must be a string, not {0}'.format(type(text)))\n\u001b[0m\u001b[1;32m    371\u001b[0m         \u001b[0;32mif\u001b[0m \u001b[0mclean_html\u001b[0m\u001b[0;34m:\u001b[0m\u001b[0;34m\u001b[0m\u001b[0;34m\u001b[0m\u001b[0m\n\u001b[1;32m    372\u001b[0m             raise NotImplementedError(\"clean_html has been deprecated. \"\n",
            "\u001b[0;31mTypeError\u001b[0m: The `text` argument passed to `__init__(text)` must be a string, not <class 'float'>"
          ]
        }
      ]
    },
    {
      "cell_type": "markdown",
      "metadata": {
        "id": "pbaaJ9ARBt9T"
      },
      "source": [
        "You can see that the polarity mainly ranges between 0.00 and 0.20. This indicates that the majority of the news headlines are neutral.\n",
        "Let’s dig a bit deeper by classifying the news as negative, positive and neutral based on the scores."
      ]
    },
    {
      "cell_type": "code",
      "metadata": {
        "id": "6nurURfcBt9T"
      },
      "source": [
        "def sentiment(x):\n",
        "    if x<0:\n",
        "        return 'neg'\n",
        "    elif x==0:\n",
        "        return 'neu'\n",
        "    else:\n",
        "        return 'pos'\n",
        "    \n",
        "df1['polarity']=df1['polarity_score'].\\\n",
        "   map(lambda x: sentiment(x))\n",
        "plt.bar(df1.polarity.value_counts().index,\n",
        "        df1.polarity.value_counts())\n",
        "plt.show()"
      ],
      "execution_count": null,
      "outputs": []
    },
    {
      "cell_type": "markdown",
      "metadata": {
        "id": "mPnkZ5ZnBt9V"
      },
      "source": [
        "Yep, 70 % of news is neutral with only 18% of positive and 11% of negative.\n",
        "Let’s take a look at some of the positive and negative headlines."
      ]
    },
    {
      "cell_type": "code",
      "metadata": {
        "id": "H5-rPmCgBt9V"
      },
      "source": [
        "df1[df1['polarity']=='pos']['headline_text'].head()"
      ],
      "execution_count": null,
      "outputs": []
    },
    {
      "cell_type": "code",
      "metadata": {
        "id": "wTYvcC8QBt9X"
      },
      "source": [
        "df1[df1['polarity']=='neg']['headline_text'].head()"
      ],
      "execution_count": null,
      "outputs": []
    },
    {
      "cell_type": "markdown",
      "metadata": {
        "id": "yyE1FLDkBt9Y"
      },
      "source": [
        "We discussed and implemented various exploratory data analysis methods for text data. Some common, some lesser-known but all of them could be a great addition to your data exploration toolkit."
      ]
    }
  ]
}